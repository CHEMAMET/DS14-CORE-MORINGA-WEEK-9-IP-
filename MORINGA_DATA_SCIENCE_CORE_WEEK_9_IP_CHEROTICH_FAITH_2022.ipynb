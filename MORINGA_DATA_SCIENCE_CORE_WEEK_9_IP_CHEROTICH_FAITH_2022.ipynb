{
  "nbformat": 4,
  "nbformat_minor": 0,
  "metadata": {
    "colab": {
      "name": "MORINGA_DATA_SCIENCE_CORE_WEEK_9_IP_CHEROTICH_FAITH_2022.ipynb",
      "provenance": [],
      "collapsed_sections": [],
      "toc_visible": true
    },
    "kernelspec": {
      "name": "python3",
      "display_name": "Python 3"
    },
    "language_info": {
      "name": "python"
    }
  },
  "cells": [
    {
      "cell_type": "markdown",
      "source": [
        "# **1. Defining the Research Question**"
      ],
      "metadata": {
        "id": "VzNDMRsiq3tj"
      }
    },
    {
      "cell_type": "markdown",
      "source": [
        "# a) Specifying the Research Question"
      ],
      "metadata": {
        "id": "Gk-WRY9YrACk"
      }
    },
    {
      "cell_type": "markdown",
      "source": [
        "Using the KNN algorithm, predict the chance of survival of the passengers from the provided titanic dataset (Whether the passengers survived or not)"
      ],
      "metadata": {
        "id": "U4EON1qirOG-"
      }
    },
    {
      "cell_type": "markdown",
      "source": [
        "# b) Defining the Metric of Success"
      ],
      "metadata": {
        "id": "vFehXCorre9O"
      }
    },
    {
      "cell_type": "markdown",
      "source": [
        "A good model will enable better predictions and understanding of the dataset to the point where one is needed to provide insights about the study. Therefore, our model would be considered a success if it is able to compute an accuracy score of at least 80%."
      ],
      "metadata": {
        "id": "ReuFeFx2tELf"
      }
    },
    {
      "cell_type": "markdown",
      "source": [
        "# c) Understanding the Context"
      ],
      "metadata": {
        "id": "53PLSM_-thwD"
      }
    },
    {
      "cell_type": "markdown",
      "source": [
        "The RMS Titanic was a British ship that crashed into an iceberg and led to the untimely demise of hundreds of passengers on its maiden voyage in April 1912.\n",
        "\n",
        "Column Description\n",
        "\n",
        "survival (0 = No, 1 = Yes)\n",
        "\n",
        "pclass - Ticket class (1 = 1st, 2 = 2nd, 3 = 3rd)\n",
        "\n",
        "sex\n",
        "\n",
        "Age - Age in years\n",
        "\n",
        "sibsp - # of siblings / spouses aboard the Titanic\n",
        "\n",
        "parch - # of parents / children aboard the Titanic\n",
        "\n",
        "ticket - Ticket number\n",
        "\n",
        "fare - Passenger fare\n",
        "\n",
        "cabin - Cabin number\n",
        "\n",
        "embarked - Port of Embarkation (C = Cherbourg, Q = Queenstown, S = Southampton)"
      ],
      "metadata": {
        "id": "Y7SHBJPltwKd"
      }
    },
    {
      "cell_type": "markdown",
      "source": [
        "# d) Recording the Experimental Design"
      ],
      "metadata": {
        "id": "yfEbQnt2uFgo"
      }
    },
    {
      "cell_type": "markdown",
      "source": [
        "Prepare dataset(s) and clean them\n",
        "\n",
        "Carry out exhaustive EDA\n",
        "\n",
        "Carry out modelling using KNN\n",
        "\n",
        "Optimize the KNN model\n",
        "\n",
        "Challenge the Solution\n",
        "\n",
        "Document everything"
      ],
      "metadata": {
        "id": "F57XnsUEuStn"
      }
    },
    {
      "cell_type": "markdown",
      "source": [
        "# e) Appropriateness of Data"
      ],
      "metadata": {
        "id": "eL7JVc8Xu4yj"
      }
    },
    {
      "cell_type": "markdown",
      "source": [
        "I found the data to be very appropriate for the task. However, in some cases, it would have been better if the variables were a bit more clear. For example, on the 'Parch' variable, I did not understand whether it meant that the passenger had a parent or a child with them or both. The same can be said for the 'SibSp' variable."
      ],
      "metadata": {
        "id": "bONZ7n3-vFLD"
      }
    },
    {
      "cell_type": "markdown",
      "source": [
        "# **2. EXTERNAL DATA SOURCE VALIDATION**"
      ],
      "metadata": {
        "id": "1hOjdxnOBW1l"
      }
    },
    {
      "cell_type": "markdown",
      "source": [
        "Making sure your data matches something outside of the dataset is very important. It allows you to ensure that the measurements are roughly in line with what they should be and it serves as a check on what other things might be wrong in your dataset. External validation can often be as simple as checking your data against a single number, as we will do here.\n",
        "\n",
        "The data provided for analysis was appropriate and the column description was understandable hence making it easy to analyze the data and answer the main question in place. https://www.kaggle.com/c/titanic/data"
      ],
      "metadata": {
        "id": "ddZbH-gkBhU6"
      }
    },
    {
      "cell_type": "markdown",
      "source": [
        "# **3. DATA PREPARATION, DATA UNDERSTANDING AND DATA CLEANING**"
      ],
      "metadata": {
        "id": "Gauefp6evbLu"
      }
    },
    {
      "cell_type": "code",
      "source": [
        "#import warnings\n",
        "import warnings\n",
        "warnings.filterwarnings('ignore')"
      ],
      "metadata": {
        "id": "yhgGFQw5Psdr"
      },
      "execution_count": 80,
      "outputs": []
    },
    {
      "cell_type": "code",
      "source": [
        "# Importing basic python libraries\n",
        "import pandas as pd\n",
        "import numpy as np\n",
        "# Visualization libraries\n",
        "import matplotlib.pyplot as plt\n",
        "%matplotlib inline \n",
        "import seaborn as sns"
      ],
      "metadata": {
        "id": "2YY2oEeNv54v"
      },
      "execution_count": 81,
      "outputs": []
    },
    {
      "cell_type": "code",
      "execution_count": 82,
      "metadata": {
        "colab": {
          "base_uri": "https://localhost:8080/",
          "height": 334
        },
        "id": "c2wrhrAPniIO",
        "outputId": "eb72c85a-93ed-4665-bdc5-e2f371e2cf02"
      },
      "outputs": [
        {
          "output_type": "execute_result",
          "data": {
            "text/plain": [
              "             Survived  Pclass  \\\n",
              "PassengerId                     \n",
              "1                   0       3   \n",
              "2                   1       1   \n",
              "3                   1       3   \n",
              "4                   1       1   \n",
              "5                   0       3   \n",
              "\n",
              "                                                          Name     Sex   Age  \\\n",
              "PassengerId                                                                    \n",
              "1                                      Braund, Mr. Owen Harris    male  22.0   \n",
              "2            Cumings, Mrs. John Bradley (Florence Briggs Th...  female  38.0   \n",
              "3                                       Heikkinen, Miss. Laina  female  26.0   \n",
              "4                 Futrelle, Mrs. Jacques Heath (Lily May Peel)  female  35.0   \n",
              "5                                     Allen, Mr. William Henry    male  35.0   \n",
              "\n",
              "             SibSp  Parch            Ticket     Fare Cabin Embarked  \n",
              "PassengerId                                                          \n",
              "1                1      0         A/5 21171   7.2500   NaN        S  \n",
              "2                1      0          PC 17599  71.2833   C85        C  \n",
              "3                0      0  STON/O2. 3101282   7.9250   NaN        S  \n",
              "4                1      0            113803  53.1000  C123        S  \n",
              "5                0      0            373450   8.0500   NaN        S  "
            ],
            "text/html": [
              "\n",
              "  <div id=\"df-02d9e7c3-f55b-4572-a4dc-05f77b3c47cc\">\n",
              "    <div class=\"colab-df-container\">\n",
              "      <div>\n",
              "<style scoped>\n",
              "    .dataframe tbody tr th:only-of-type {\n",
              "        vertical-align: middle;\n",
              "    }\n",
              "\n",
              "    .dataframe tbody tr th {\n",
              "        vertical-align: top;\n",
              "    }\n",
              "\n",
              "    .dataframe thead th {\n",
              "        text-align: right;\n",
              "    }\n",
              "</style>\n",
              "<table border=\"1\" class=\"dataframe\">\n",
              "  <thead>\n",
              "    <tr style=\"text-align: right;\">\n",
              "      <th></th>\n",
              "      <th>Survived</th>\n",
              "      <th>Pclass</th>\n",
              "      <th>Name</th>\n",
              "      <th>Sex</th>\n",
              "      <th>Age</th>\n",
              "      <th>SibSp</th>\n",
              "      <th>Parch</th>\n",
              "      <th>Ticket</th>\n",
              "      <th>Fare</th>\n",
              "      <th>Cabin</th>\n",
              "      <th>Embarked</th>\n",
              "    </tr>\n",
              "    <tr>\n",
              "      <th>PassengerId</th>\n",
              "      <th></th>\n",
              "      <th></th>\n",
              "      <th></th>\n",
              "      <th></th>\n",
              "      <th></th>\n",
              "      <th></th>\n",
              "      <th></th>\n",
              "      <th></th>\n",
              "      <th></th>\n",
              "      <th></th>\n",
              "      <th></th>\n",
              "    </tr>\n",
              "  </thead>\n",
              "  <tbody>\n",
              "    <tr>\n",
              "      <th>1</th>\n",
              "      <td>0</td>\n",
              "      <td>3</td>\n",
              "      <td>Braund, Mr. Owen Harris</td>\n",
              "      <td>male</td>\n",
              "      <td>22.0</td>\n",
              "      <td>1</td>\n",
              "      <td>0</td>\n",
              "      <td>A/5 21171</td>\n",
              "      <td>7.2500</td>\n",
              "      <td>NaN</td>\n",
              "      <td>S</td>\n",
              "    </tr>\n",
              "    <tr>\n",
              "      <th>2</th>\n",
              "      <td>1</td>\n",
              "      <td>1</td>\n",
              "      <td>Cumings, Mrs. John Bradley (Florence Briggs Th...</td>\n",
              "      <td>female</td>\n",
              "      <td>38.0</td>\n",
              "      <td>1</td>\n",
              "      <td>0</td>\n",
              "      <td>PC 17599</td>\n",
              "      <td>71.2833</td>\n",
              "      <td>C85</td>\n",
              "      <td>C</td>\n",
              "    </tr>\n",
              "    <tr>\n",
              "      <th>3</th>\n",
              "      <td>1</td>\n",
              "      <td>3</td>\n",
              "      <td>Heikkinen, Miss. Laina</td>\n",
              "      <td>female</td>\n",
              "      <td>26.0</td>\n",
              "      <td>0</td>\n",
              "      <td>0</td>\n",
              "      <td>STON/O2. 3101282</td>\n",
              "      <td>7.9250</td>\n",
              "      <td>NaN</td>\n",
              "      <td>S</td>\n",
              "    </tr>\n",
              "    <tr>\n",
              "      <th>4</th>\n",
              "      <td>1</td>\n",
              "      <td>1</td>\n",
              "      <td>Futrelle, Mrs. Jacques Heath (Lily May Peel)</td>\n",
              "      <td>female</td>\n",
              "      <td>35.0</td>\n",
              "      <td>1</td>\n",
              "      <td>0</td>\n",
              "      <td>113803</td>\n",
              "      <td>53.1000</td>\n",
              "      <td>C123</td>\n",
              "      <td>S</td>\n",
              "    </tr>\n",
              "    <tr>\n",
              "      <th>5</th>\n",
              "      <td>0</td>\n",
              "      <td>3</td>\n",
              "      <td>Allen, Mr. William Henry</td>\n",
              "      <td>male</td>\n",
              "      <td>35.0</td>\n",
              "      <td>0</td>\n",
              "      <td>0</td>\n",
              "      <td>373450</td>\n",
              "      <td>8.0500</td>\n",
              "      <td>NaN</td>\n",
              "      <td>S</td>\n",
              "    </tr>\n",
              "  </tbody>\n",
              "</table>\n",
              "</div>\n",
              "      <button class=\"colab-df-convert\" onclick=\"convertToInteractive('df-02d9e7c3-f55b-4572-a4dc-05f77b3c47cc')\"\n",
              "              title=\"Convert this dataframe to an interactive table.\"\n",
              "              style=\"display:none;\">\n",
              "        \n",
              "  <svg xmlns=\"http://www.w3.org/2000/svg\" height=\"24px\"viewBox=\"0 0 24 24\"\n",
              "       width=\"24px\">\n",
              "    <path d=\"M0 0h24v24H0V0z\" fill=\"none\"/>\n",
              "    <path d=\"M18.56 5.44l.94 2.06.94-2.06 2.06-.94-2.06-.94-.94-2.06-.94 2.06-2.06.94zm-11 1L8.5 8.5l.94-2.06 2.06-.94-2.06-.94L8.5 2.5l-.94 2.06-2.06.94zm10 10l.94 2.06.94-2.06 2.06-.94-2.06-.94-.94-2.06-.94 2.06-2.06.94z\"/><path d=\"M17.41 7.96l-1.37-1.37c-.4-.4-.92-.59-1.43-.59-.52 0-1.04.2-1.43.59L10.3 9.45l-7.72 7.72c-.78.78-.78 2.05 0 2.83L4 21.41c.39.39.9.59 1.41.59.51 0 1.02-.2 1.41-.59l7.78-7.78 2.81-2.81c.8-.78.8-2.07 0-2.86zM5.41 20L4 18.59l7.72-7.72 1.47 1.35L5.41 20z\"/>\n",
              "  </svg>\n",
              "      </button>\n",
              "      \n",
              "  <style>\n",
              "    .colab-df-container {\n",
              "      display:flex;\n",
              "      flex-wrap:wrap;\n",
              "      gap: 12px;\n",
              "    }\n",
              "\n",
              "    .colab-df-convert {\n",
              "      background-color: #E8F0FE;\n",
              "      border: none;\n",
              "      border-radius: 50%;\n",
              "      cursor: pointer;\n",
              "      display: none;\n",
              "      fill: #1967D2;\n",
              "      height: 32px;\n",
              "      padding: 0 0 0 0;\n",
              "      width: 32px;\n",
              "    }\n",
              "\n",
              "    .colab-df-convert:hover {\n",
              "      background-color: #E2EBFA;\n",
              "      box-shadow: 0px 1px 2px rgba(60, 64, 67, 0.3), 0px 1px 3px 1px rgba(60, 64, 67, 0.15);\n",
              "      fill: #174EA6;\n",
              "    }\n",
              "\n",
              "    [theme=dark] .colab-df-convert {\n",
              "      background-color: #3B4455;\n",
              "      fill: #D2E3FC;\n",
              "    }\n",
              "\n",
              "    [theme=dark] .colab-df-convert:hover {\n",
              "      background-color: #434B5C;\n",
              "      box-shadow: 0px 1px 3px 1px rgba(0, 0, 0, 0.15);\n",
              "      filter: drop-shadow(0px 1px 2px rgba(0, 0, 0, 0.3));\n",
              "      fill: #FFFFFF;\n",
              "    }\n",
              "  </style>\n",
              "\n",
              "      <script>\n",
              "        const buttonEl =\n",
              "          document.querySelector('#df-02d9e7c3-f55b-4572-a4dc-05f77b3c47cc button.colab-df-convert');\n",
              "        buttonEl.style.display =\n",
              "          google.colab.kernel.accessAllowed ? 'block' : 'none';\n",
              "\n",
              "        async function convertToInteractive(key) {\n",
              "          const element = document.querySelector('#df-02d9e7c3-f55b-4572-a4dc-05f77b3c47cc');\n",
              "          const dataTable =\n",
              "            await google.colab.kernel.invokeFunction('convertToInteractive',\n",
              "                                                     [key], {});\n",
              "          if (!dataTable) return;\n",
              "\n",
              "          const docLinkHtml = 'Like what you see? Visit the ' +\n",
              "            '<a target=\"_blank\" href=https://colab.research.google.com/notebooks/data_table.ipynb>data table notebook</a>'\n",
              "            + ' to learn more about interactive tables.';\n",
              "          element.innerHTML = '';\n",
              "          dataTable['output_type'] = 'display_data';\n",
              "          await google.colab.output.renderOutput(dataTable, element);\n",
              "          const docLink = document.createElement('div');\n",
              "          docLink.innerHTML = docLinkHtml;\n",
              "          element.appendChild(docLink);\n",
              "        }\n",
              "      </script>\n",
              "    </div>\n",
              "  </div>\n",
              "  "
            ]
          },
          "metadata": {},
          "execution_count": 82
        }
      ],
      "source": [
        "# Loading and previewing train dataset\n",
        "train= pd.read_csv(\"train.csv\", index_col=\"PassengerId\")\n",
        "train.head()"
      ]
    },
    {
      "cell_type": "code",
      "source": [
        "# loading & previewing test dataset\n",
        "test = pd.read_csv('test.csv', index_col = 'PassengerId')\n",
        "test.head()"
      ],
      "metadata": {
        "colab": {
          "base_uri": "https://localhost:8080/",
          "height": 282
        },
        "id": "SjA2-ywA1uJH",
        "outputId": "4ae54106-8ecd-4d8e-bdb0-6327839684b7"
      },
      "execution_count": 83,
      "outputs": [
        {
          "output_type": "execute_result",
          "data": {
            "text/plain": [
              "             Pclass                                          Name     Sex  \\\n",
              "PassengerId                                                                 \n",
              "892               3                              Kelly, Mr. James    male   \n",
              "893               3              Wilkes, Mrs. James (Ellen Needs)  female   \n",
              "894               2                     Myles, Mr. Thomas Francis    male   \n",
              "895               3                              Wirz, Mr. Albert    male   \n",
              "896               3  Hirvonen, Mrs. Alexander (Helga E Lindqvist)  female   \n",
              "\n",
              "              Age  SibSp  Parch   Ticket     Fare Cabin Embarked  \n",
              "PassengerId                                                       \n",
              "892          34.5      0      0   330911   7.8292   NaN        Q  \n",
              "893          47.0      1      0   363272   7.0000   NaN        S  \n",
              "894          62.0      0      0   240276   9.6875   NaN        Q  \n",
              "895          27.0      0      0   315154   8.6625   NaN        S  \n",
              "896          22.0      1      1  3101298  12.2875   NaN        S  "
            ],
            "text/html": [
              "\n",
              "  <div id=\"df-82dd824a-b688-4fc2-b9c5-e62ccfb49447\">\n",
              "    <div class=\"colab-df-container\">\n",
              "      <div>\n",
              "<style scoped>\n",
              "    .dataframe tbody tr th:only-of-type {\n",
              "        vertical-align: middle;\n",
              "    }\n",
              "\n",
              "    .dataframe tbody tr th {\n",
              "        vertical-align: top;\n",
              "    }\n",
              "\n",
              "    .dataframe thead th {\n",
              "        text-align: right;\n",
              "    }\n",
              "</style>\n",
              "<table border=\"1\" class=\"dataframe\">\n",
              "  <thead>\n",
              "    <tr style=\"text-align: right;\">\n",
              "      <th></th>\n",
              "      <th>Pclass</th>\n",
              "      <th>Name</th>\n",
              "      <th>Sex</th>\n",
              "      <th>Age</th>\n",
              "      <th>SibSp</th>\n",
              "      <th>Parch</th>\n",
              "      <th>Ticket</th>\n",
              "      <th>Fare</th>\n",
              "      <th>Cabin</th>\n",
              "      <th>Embarked</th>\n",
              "    </tr>\n",
              "    <tr>\n",
              "      <th>PassengerId</th>\n",
              "      <th></th>\n",
              "      <th></th>\n",
              "      <th></th>\n",
              "      <th></th>\n",
              "      <th></th>\n",
              "      <th></th>\n",
              "      <th></th>\n",
              "      <th></th>\n",
              "      <th></th>\n",
              "      <th></th>\n",
              "    </tr>\n",
              "  </thead>\n",
              "  <tbody>\n",
              "    <tr>\n",
              "      <th>892</th>\n",
              "      <td>3</td>\n",
              "      <td>Kelly, Mr. James</td>\n",
              "      <td>male</td>\n",
              "      <td>34.5</td>\n",
              "      <td>0</td>\n",
              "      <td>0</td>\n",
              "      <td>330911</td>\n",
              "      <td>7.8292</td>\n",
              "      <td>NaN</td>\n",
              "      <td>Q</td>\n",
              "    </tr>\n",
              "    <tr>\n",
              "      <th>893</th>\n",
              "      <td>3</td>\n",
              "      <td>Wilkes, Mrs. James (Ellen Needs)</td>\n",
              "      <td>female</td>\n",
              "      <td>47.0</td>\n",
              "      <td>1</td>\n",
              "      <td>0</td>\n",
              "      <td>363272</td>\n",
              "      <td>7.0000</td>\n",
              "      <td>NaN</td>\n",
              "      <td>S</td>\n",
              "    </tr>\n",
              "    <tr>\n",
              "      <th>894</th>\n",
              "      <td>2</td>\n",
              "      <td>Myles, Mr. Thomas Francis</td>\n",
              "      <td>male</td>\n",
              "      <td>62.0</td>\n",
              "      <td>0</td>\n",
              "      <td>0</td>\n",
              "      <td>240276</td>\n",
              "      <td>9.6875</td>\n",
              "      <td>NaN</td>\n",
              "      <td>Q</td>\n",
              "    </tr>\n",
              "    <tr>\n",
              "      <th>895</th>\n",
              "      <td>3</td>\n",
              "      <td>Wirz, Mr. Albert</td>\n",
              "      <td>male</td>\n",
              "      <td>27.0</td>\n",
              "      <td>0</td>\n",
              "      <td>0</td>\n",
              "      <td>315154</td>\n",
              "      <td>8.6625</td>\n",
              "      <td>NaN</td>\n",
              "      <td>S</td>\n",
              "    </tr>\n",
              "    <tr>\n",
              "      <th>896</th>\n",
              "      <td>3</td>\n",
              "      <td>Hirvonen, Mrs. Alexander (Helga E Lindqvist)</td>\n",
              "      <td>female</td>\n",
              "      <td>22.0</td>\n",
              "      <td>1</td>\n",
              "      <td>1</td>\n",
              "      <td>3101298</td>\n",
              "      <td>12.2875</td>\n",
              "      <td>NaN</td>\n",
              "      <td>S</td>\n",
              "    </tr>\n",
              "  </tbody>\n",
              "</table>\n",
              "</div>\n",
              "      <button class=\"colab-df-convert\" onclick=\"convertToInteractive('df-82dd824a-b688-4fc2-b9c5-e62ccfb49447')\"\n",
              "              title=\"Convert this dataframe to an interactive table.\"\n",
              "              style=\"display:none;\">\n",
              "        \n",
              "  <svg xmlns=\"http://www.w3.org/2000/svg\" height=\"24px\"viewBox=\"0 0 24 24\"\n",
              "       width=\"24px\">\n",
              "    <path d=\"M0 0h24v24H0V0z\" fill=\"none\"/>\n",
              "    <path d=\"M18.56 5.44l.94 2.06.94-2.06 2.06-.94-2.06-.94-.94-2.06-.94 2.06-2.06.94zm-11 1L8.5 8.5l.94-2.06 2.06-.94-2.06-.94L8.5 2.5l-.94 2.06-2.06.94zm10 10l.94 2.06.94-2.06 2.06-.94-2.06-.94-.94-2.06-.94 2.06-2.06.94z\"/><path d=\"M17.41 7.96l-1.37-1.37c-.4-.4-.92-.59-1.43-.59-.52 0-1.04.2-1.43.59L10.3 9.45l-7.72 7.72c-.78.78-.78 2.05 0 2.83L4 21.41c.39.39.9.59 1.41.59.51 0 1.02-.2 1.41-.59l7.78-7.78 2.81-2.81c.8-.78.8-2.07 0-2.86zM5.41 20L4 18.59l7.72-7.72 1.47 1.35L5.41 20z\"/>\n",
              "  </svg>\n",
              "      </button>\n",
              "      \n",
              "  <style>\n",
              "    .colab-df-container {\n",
              "      display:flex;\n",
              "      flex-wrap:wrap;\n",
              "      gap: 12px;\n",
              "    }\n",
              "\n",
              "    .colab-df-convert {\n",
              "      background-color: #E8F0FE;\n",
              "      border: none;\n",
              "      border-radius: 50%;\n",
              "      cursor: pointer;\n",
              "      display: none;\n",
              "      fill: #1967D2;\n",
              "      height: 32px;\n",
              "      padding: 0 0 0 0;\n",
              "      width: 32px;\n",
              "    }\n",
              "\n",
              "    .colab-df-convert:hover {\n",
              "      background-color: #E2EBFA;\n",
              "      box-shadow: 0px 1px 2px rgba(60, 64, 67, 0.3), 0px 1px 3px 1px rgba(60, 64, 67, 0.15);\n",
              "      fill: #174EA6;\n",
              "    }\n",
              "\n",
              "    [theme=dark] .colab-df-convert {\n",
              "      background-color: #3B4455;\n",
              "      fill: #D2E3FC;\n",
              "    }\n",
              "\n",
              "    [theme=dark] .colab-df-convert:hover {\n",
              "      background-color: #434B5C;\n",
              "      box-shadow: 0px 1px 3px 1px rgba(0, 0, 0, 0.15);\n",
              "      filter: drop-shadow(0px 1px 2px rgba(0, 0, 0, 0.3));\n",
              "      fill: #FFFFFF;\n",
              "    }\n",
              "  </style>\n",
              "\n",
              "      <script>\n",
              "        const buttonEl =\n",
              "          document.querySelector('#df-82dd824a-b688-4fc2-b9c5-e62ccfb49447 button.colab-df-convert');\n",
              "        buttonEl.style.display =\n",
              "          google.colab.kernel.accessAllowed ? 'block' : 'none';\n",
              "\n",
              "        async function convertToInteractive(key) {\n",
              "          const element = document.querySelector('#df-82dd824a-b688-4fc2-b9c5-e62ccfb49447');\n",
              "          const dataTable =\n",
              "            await google.colab.kernel.invokeFunction('convertToInteractive',\n",
              "                                                     [key], {});\n",
              "          if (!dataTable) return;\n",
              "\n",
              "          const docLinkHtml = 'Like what you see? Visit the ' +\n",
              "            '<a target=\"_blank\" href=https://colab.research.google.com/notebooks/data_table.ipynb>data table notebook</a>'\n",
              "            + ' to learn more about interactive tables.';\n",
              "          element.innerHTML = '';\n",
              "          dataTable['output_type'] = 'display_data';\n",
              "          await google.colab.output.renderOutput(dataTable, element);\n",
              "          const docLink = document.createElement('div');\n",
              "          docLink.innerHTML = docLinkHtml;\n",
              "          element.appendChild(docLink);\n",
              "        }\n",
              "      </script>\n",
              "    </div>\n",
              "  </div>\n",
              "  "
            ]
          },
          "metadata": {},
          "execution_count": 83
        }
      ]
    },
    {
      "cell_type": "code",
      "source": [
        "# Determining the no. of records in our dataset\n",
        "# \n",
        "print('The number of records in the titanic_train dataset: ' + str(train.shape))\n",
        "\n",
        "print('The number of records in the titanic_test dataset: ' + str(test.shape))"
      ],
      "metadata": {
        "colab": {
          "base_uri": "https://localhost:8080/"
        },
        "id": "17HI6ehczTrr",
        "outputId": "44b5f47f-98a5-40ec-938a-698b4d430fca"
      },
      "execution_count": 84,
      "outputs": [
        {
          "output_type": "stream",
          "name": "stdout",
          "text": [
            "The number of records in the titanic_train dataset: (891, 11)\n",
            "The number of records in the titanic_test dataset: (418, 10)\n"
          ]
        }
      ]
    },
    {
      "cell_type": "code",
      "source": [
        "# dropping Name, Ticket, and Cabin since I consider them useless when it comes\n",
        "# to determining whether or not someone will survive\n",
        "train.drop(columns = ['Name', 'Ticket', 'Cabin'], axis = 1, inplace = True)\n",
        "test.drop(columns = ['Name', 'Ticket', 'Cabin'], axis = 1, inplace = True)"
      ],
      "metadata": {
        "id": "_1cAh2WW2rie"
      },
      "execution_count": 85,
      "outputs": []
    },
    {
      "cell_type": "code",
      "source": [
        "# the number of records in our datasets after dropping the name, ticket and cabin columns\n",
        "\n",
        "print(\"The 'train' dataset has\", train.shape[0], \n",
        "      \"rows and\", train.shape[1], \"columns.\")\n",
        "print(\"The 'test' dataset has\", test.shape[0],\n",
        "      \"rows and\", test.shape[1], \"columns.\")"
      ],
      "metadata": {
        "colab": {
          "base_uri": "https://localhost:8080/"
        },
        "id": "yaJD3WCx3ANJ",
        "outputId": "1ae674a0-0c78-422b-c9a0-1326b95d0c2e"
      },
      "execution_count": 86,
      "outputs": [
        {
          "output_type": "stream",
          "name": "stdout",
          "text": [
            "The 'train' dataset has 891 rows and 8 columns.\n",
            "The 'test' dataset has 418 rows and 7 columns.\n"
          ]
        }
      ]
    },
    {
      "cell_type": "markdown",
      "source": [
        "We have dropped 3 columns of each dataset"
      ],
      "metadata": {
        "id": "TCu5O1B33T13"
      }
    },
    {
      "cell_type": "code",
      "source": [
        "# dropping duplicates, if any\n",
        "train = train.drop_duplicates()\n",
        "test = test.drop_duplicates()\n",
        "print(\"Our new 'train' dataset shape:\", train.shape)\n",
        "print(\"Our new 'test' dataset shape:\", test.shape)"
      ],
      "metadata": {
        "colab": {
          "base_uri": "https://localhost:8080/"
        },
        "id": "wWrwGp943TI2",
        "outputId": "2c1c10bb-9b90-4bbe-9ac8-9903eaf68382"
      },
      "execution_count": 87,
      "outputs": [
        {
          "output_type": "stream",
          "name": "stdout",
          "text": [
            "Our new 'train' dataset shape: (780, 8)\n",
            "Our new 'test' dataset shape: (380, 7)\n"
          ]
        }
      ]
    },
    {
      "cell_type": "code",
      "source": [
        "# Checking the basic information of our datasets\n",
        "train.info()\n",
        "\n",
        "print(\"\\n\")\n",
        "\n",
        "test.info()"
      ],
      "metadata": {
        "colab": {
          "base_uri": "https://localhost:8080/"
        },
        "id": "SdPvCM-T4J3Y",
        "outputId": "a7a69a42-749b-461d-ba55-3ad842ccaddf"
      },
      "execution_count": 88,
      "outputs": [
        {
          "output_type": "stream",
          "name": "stdout",
          "text": [
            "<class 'pandas.core.frame.DataFrame'>\n",
            "Int64Index: 780 entries, 1 to 891\n",
            "Data columns (total 8 columns):\n",
            " #   Column    Non-Null Count  Dtype  \n",
            "---  ------    --------------  -----  \n",
            " 0   Survived  780 non-null    int64  \n",
            " 1   Pclass    780 non-null    int64  \n",
            " 2   Sex       780 non-null    object \n",
            " 3   Age       676 non-null    float64\n",
            " 4   SibSp     780 non-null    int64  \n",
            " 5   Parch     780 non-null    int64  \n",
            " 6   Fare      780 non-null    float64\n",
            " 7   Embarked  778 non-null    object \n",
            "dtypes: float64(2), int64(4), object(2)\n",
            "memory usage: 54.8+ KB\n",
            "\n",
            "\n",
            "<class 'pandas.core.frame.DataFrame'>\n",
            "Int64Index: 380 entries, 892 to 1309\n",
            "Data columns (total 7 columns):\n",
            " #   Column    Non-Null Count  Dtype  \n",
            "---  ------    --------------  -----  \n",
            " 0   Pclass    380 non-null    int64  \n",
            " 1   Sex       380 non-null    object \n",
            " 2   Age       322 non-null    float64\n",
            " 3   SibSp     380 non-null    int64  \n",
            " 4   Parch     380 non-null    int64  \n",
            " 5   Fare      379 non-null    float64\n",
            " 6   Embarked  380 non-null    object \n",
            "dtypes: float64(2), int64(3), object(2)\n",
            "memory usage: 23.8+ KB\n"
          ]
        }
      ]
    },
    {
      "cell_type": "markdown",
      "source": [
        "# Checking for Null values"
      ],
      "metadata": {
        "id": "lnXmTLhNzNcV"
      }
    },
    {
      "cell_type": "code",
      "source": [
        "# Checking for null values\n",
        "print(train.isna().sum())\n",
        "print(\"\\n\")\n",
        "print(test.isna().sum())"
      ],
      "metadata": {
        "colab": {
          "base_uri": "https://localhost:8080/"
        },
        "id": "UFCT9h6C5NHw",
        "outputId": "5f772e86-2494-4c96-8d15-077b49d22cd0"
      },
      "execution_count": 89,
      "outputs": [
        {
          "output_type": "stream",
          "name": "stdout",
          "text": [
            "Survived      0\n",
            "Pclass        0\n",
            "Sex           0\n",
            "Age         104\n",
            "SibSp         0\n",
            "Parch         0\n",
            "Fare          0\n",
            "Embarked      2\n",
            "dtype: int64\n",
            "\n",
            "\n",
            "Pclass       0\n",
            "Sex          0\n",
            "Age         58\n",
            "SibSp        0\n",
            "Parch        0\n",
            "Fare         1\n",
            "Embarked     0\n",
            "dtype: int64\n"
          ]
        }
      ]
    },
    {
      "cell_type": "markdown",
      "source": [
        "The 'train' dataset is missing 2 values in its Embarked column while the 'test' dataset is missing one value in its Fare column. Both of these can be fixed by dropping their respecive records.\n",
        "Both datasets also have highest number of missing values on their age columns"
      ],
      "metadata": {
        "id": "SkH3m2WA5t3N"
      }
    },
    {
      "cell_type": "code",
      "source": [
        "# Dropping the missing values in the embarked and fare columns\n",
        "train = train.dropna(subset = ['Embarked'])\n",
        "test = test.dropna(subset = ['Fare'])\n",
        "print(\"Missing values in train's Embarked column:\", train.Embarked.isna().any())\n",
        "print(\"Missing values in test's Fare column:\", test.Fare.isna().any())"
      ],
      "metadata": {
        "colab": {
          "base_uri": "https://localhost:8080/"
        },
        "id": "B-VJu3Sy5-pJ",
        "outputId": "a586a96c-69dc-4d01-ffe9-ee5a65cbee9b"
      },
      "execution_count": 90,
      "outputs": [
        {
          "output_type": "stream",
          "name": "stdout",
          "text": [
            "Missing values in train's Embarked column: False\n",
            "Missing values in test's Fare column: False\n"
          ]
        }
      ]
    },
    {
      "cell_type": "markdown",
      "source": [
        "# Checking for Outliers"
      ],
      "metadata": {
        "id": "F0wfEQKK6ZES"
      }
    },
    {
      "cell_type": "markdown",
      "source": [
        "As for the missing values in the Age column (104 for 'train' and 58 for 'test). We will look at their box plots to see how many outliers they each have. If there are many outliers, we will impute with the mean, otherwise we will replace the missing values with the column's median."
      ],
      "metadata": {
        "id": "RvbYofXa6UYE"
      }
    },
    {
      "cell_type": "code",
      "source": [
        "df = [train, test]\n",
        "train.name = 'Train'\n",
        "test.name = 'Test'\n",
        "\n",
        "for data in df:\n",
        "    data.Age.plot(kind = \"box\", color= 'magenta')\n",
        "    plt.title(\"Box plot of Age in {} dataset\".format(data.name))\n",
        "    plt.show()"
      ],
      "metadata": {
        "colab": {
          "base_uri": "https://localhost:8080/",
          "height": 545
        },
        "id": "1mzsuwj66d_o",
        "outputId": "57e88d43-ee88-444a-f0da-4b86d87c6ef8"
      },
      "execution_count": 91,
      "outputs": [
        {
          "output_type": "display_data",
          "data": {
            "text/plain": [
              "<Figure size 432x288 with 1 Axes>"
            ],
            "image/png": "[encoded data removed]"
          },
          "metadata": {
            "needs_background": "light"
          }
        },
        {
          "output_type": "display_data",
          "data": {
            "text/plain": [
              "<Figure size 432x288 with 1 Axes>"
            ],
            "image/png": "[encoded data removed]"
          },
          "metadata": {
            "needs_background": "light"
          }
        }
      ]
    },
    {
      "cell_type": "markdown",
      "source": [
        "Both data sets do not have many outliers so we will replace the missing values with the mean."
      ],
      "metadata": {
        "id": "JQ2d9cRT7n8I"
      }
    },
    {
      "cell_type": "code",
      "source": [
        "train = train.fillna(train.Age.mean())\n",
        "test = test.fillna(test.Age.mean())\n",
        "\n",
        "print(\" The missing values in Train dataset:\")\n",
        "print(train.isna().any())\n",
        "\n",
        "print(\"\\nThe missing values in Test dataset:\")\n",
        "print(test.isna().any())"
      ],
      "metadata": {
        "colab": {
          "base_uri": "https://localhost:8080/"
        },
        "id": "isnnIijH7toG",
        "outputId": "0fd7ab2e-09b4-4f46-8723-a0d52cf195c9"
      },
      "execution_count": 92,
      "outputs": [
        {
          "output_type": "stream",
          "name": "stdout",
          "text": [
            " The missing values in Train dataset:\n",
            "Survived    False\n",
            "Pclass      False\n",
            "Sex         False\n",
            "Age         False\n",
            "SibSp       False\n",
            "Parch       False\n",
            "Fare        False\n",
            "Embarked    False\n",
            "dtype: bool\n",
            "\n",
            "The missing values in Test dataset:\n",
            "Pclass      False\n",
            "Sex         False\n",
            "Age         False\n",
            "SibSp       False\n",
            "Parch       False\n",
            "Fare        False\n",
            "Embarked    False\n",
            "dtype: bool\n"
          ]
        }
      ]
    },
    {
      "cell_type": "markdown",
      "source": [
        "Our datasets now have been cleaned of all missing values.\n",
        "\n",
        "I have noticed something odd about the Age columns in both datasets. They are of data type float which does not make sense and also have values such as 0.42. We will convert these columns to int so that the datasets will make logical sense and provide realistic predictions."
      ],
      "metadata": {
        "id": "rV2pMy7677Yc"
      }
    },
    {
      "cell_type": "code",
      "source": [
        "# coverting to appropriate datatypes\n",
        "train = train.astype({'Age' : 'int'})\n",
        "test = test.astype({'Age' : 'int'})\n",
        "\n",
        "# confirming that the data types have been changed\n",
        "print(\"Train Age data type:\", train.Age.dtype)\n",
        "print(\"\\n Test Age data type:\", test.Age.dtype)"
      ],
      "metadata": {
        "colab": {
          "base_uri": "https://localhost:8080/"
        },
        "id": "IWnefiIL8C7T",
        "outputId": "84c21262-9a1d-45bf-d2f5-11212c402fac"
      },
      "execution_count": 93,
      "outputs": [
        {
          "output_type": "stream",
          "name": "stdout",
          "text": [
            "Train Age data type: int64\n",
            "\n",
            " Test Age data type: int64\n"
          ]
        }
      ]
    },
    {
      "cell_type": "code",
      "source": [
        "# Dropping extra duplicates, if any were created\n",
        "train= train.drop_duplicates()\n",
        "test= test.drop_duplicates()\n",
        "\n",
        "print(\"The new train dataset shape is: \", train.shape)\n",
        "print(\"\\n The new test dataset shape is: \", test.shape)"
      ],
      "metadata": {
        "colab": {
          "base_uri": "https://localhost:8080/"
        },
        "id": "iPEsMQOe8NDj",
        "outputId": "33508700-ddd2-4e50-ca8f-32fb6b05094f"
      },
      "execution_count": 94,
      "outputs": [
        {
          "output_type": "stream",
          "name": "stdout",
          "text": [
            "The new train dataset shape is:  (772, 8)\n",
            "\n",
            " The new test dataset shape is:  (377, 7)\n"
          ]
        }
      ]
    },
    {
      "cell_type": "markdown",
      "source": [
        "# Label Encoding"
      ],
      "metadata": {
        "id": "B-3CI7N787td"
      }
    },
    {
      "cell_type": "markdown",
      "source": [
        "We now need to encode or categorical variables before we save our new datasets so that it will be easy to carry out modeling in case some functions such as regression require non-categorical data"
      ],
      "metadata": {
        "id": "I_d_mVfv9Apn"
      }
    },
    {
      "cell_type": "code",
      "source": [
        "from sklearn.preprocessing import LabelEncoder\n",
        "encoder = LabelEncoder()\n",
        "\n",
        "# columns to encode\n",
        "to_encode= [\"Sex\", \"Embarked\"]\n",
        "\n",
        "# Dictionary to store each unique variable class\n",
        "\n",
        "class_dict={}\n",
        "\n",
        "for item in to_encode:\n",
        "  encoder = LabelEncoder().fit(train[item].unique())\n",
        "  classed = encoder.classes_\n",
        "  class_dict[item] = classed\n",
        "    # encoding in 'train' dataset\n",
        "  train[item] = encoder.transform(train[item].values)\n",
        "    # encoding in 'test' dataset since it has the same unique values as the 'train' dataset\n",
        "  test[item] = encoder.transform(test[item].values)\n",
        "\n",
        "# to_encode, use the following structure\n",
        "class_dict['Sex'][0]\n"
      ],
      "metadata": {
        "colab": {
          "base_uri": "https://localhost:8080/",
          "height": 35
        },
        "id": "fFAzMU8A83Xv",
        "outputId": "31416509-3ded-4ab8-cce7-b999fc8f3e1e"
      },
      "execution_count": 95,
      "outputs": [
        {
          "output_type": "execute_result",
          "data": {
            "text/plain": [
              "'female'"
            ],
            "application/vnd.google.colaboratory.intrinsic+json": {
              "type": "string"
            }
          },
          "metadata": {},
          "execution_count": 95
        }
      ]
    },
    {
      "cell_type": "code",
      "source": [
        "# saving our cleaned datasets\n",
        "train.to_csv('train_cleaned.csv', index = False)\n",
        "test.to_csv('test_cleaned.csv', index = False)\n",
        "\n",
        "# train = pd.read_csv('train_cleaned.csv')\n",
        "# test = pd.read_csv('test_cleaned.csv')"
      ],
      "metadata": {
        "id": "kGjw6WDe-0qB"
      },
      "execution_count": 96,
      "outputs": []
    },
    {
      "cell_type": "code",
      "source": [
        "# For easy analysis,\n",
        "# we combine our train and test datasets\n",
        "dataset = pd.concat([train, test], sort = False)\n",
        "dataset.shape"
      ],
      "metadata": {
        "colab": {
          "base_uri": "https://localhost:8080/"
        },
        "id": "UhyFUQxpAD1P",
        "outputId": "4975f878-3d35-4532-80ee-540ae005fda4"
      },
      "execution_count": 97,
      "outputs": [
        {
          "output_type": "execute_result",
          "data": {
            "text/plain": [
              "(1149, 8)"
            ]
          },
          "metadata": {},
          "execution_count": 97
        }
      ]
    },
    {
      "cell_type": "code",
      "source": [
        "# previewing the basic info of our datasets\n",
        "dataset.info()"
      ],
      "metadata": {
        "colab": {
          "base_uri": "https://localhost:8080/"
        },
        "id": "JTMpw5_oAYRL",
        "outputId": "1fbfd842-e5d1-4099-9afb-7c922108d53c"
      },
      "execution_count": 98,
      "outputs": [
        {
          "output_type": "stream",
          "name": "stdout",
          "text": [
            "<class 'pandas.core.frame.DataFrame'>\n",
            "Int64Index: 1149 entries, 1 to 1309\n",
            "Data columns (total 8 columns):\n",
            " #   Column    Non-Null Count  Dtype  \n",
            "---  ------    --------------  -----  \n",
            " 0   Survived  772 non-null    float64\n",
            " 1   Pclass    1149 non-null   int64  \n",
            " 2   Sex       1149 non-null   int64  \n",
            " 3   Age       1149 non-null   int64  \n",
            " 4   SibSp     1149 non-null   int64  \n",
            " 5   Parch     1149 non-null   int64  \n",
            " 6   Fare      1149 non-null   float64\n",
            " 7   Embarked  1149 non-null   int64  \n",
            "dtypes: float64(2), int64(6)\n",
            "memory usage: 80.8 KB\n"
          ]
        }
      ]
    },
    {
      "cell_type": "code",
      "source": [
        "# changing survived column from float to category\n",
        "dataset = dataset.astype({'Survived' : 'category'})\n",
        "dataset.Survived.dtypes"
      ],
      "metadata": {
        "colab": {
          "base_uri": "https://localhost:8080/"
        },
        "id": "YqHbGH9VAoty",
        "outputId": "a1a50ae6-848a-4c67-b212-a1c422076942"
      },
      "execution_count": 99,
      "outputs": [
        {
          "output_type": "execute_result",
          "data": {
            "text/plain": [
              "CategoricalDtype(categories=[0.0, 1.0], ordered=False)"
            ]
          },
          "metadata": {},
          "execution_count": 99
        }
      ]
    },
    {
      "cell_type": "code",
      "source": [
        "# dropping duplicates, if any are present\n",
        "dataset = dataset.drop_duplicates()\n",
        "print(\"The shape of the new dataset is:\", dataset.shape)"
      ],
      "metadata": {
        "colab": {
          "base_uri": "https://localhost:8080/"
        },
        "id": "lS8v_bBwA1RB",
        "outputId": "f97b3fd7-0802-422c-9b96-f9ec24973335"
      },
      "execution_count": 100,
      "outputs": [
        {
          "output_type": "stream",
          "name": "stdout",
          "text": [
            "The shape of the new dataset is: (1149, 8)\n"
          ]
        }
      ]
    },
    {
      "cell_type": "code",
      "source": [
        "# saving our new dataset\n",
        "dataset.to_csv('new_dataset.csv', index = False)\n",
        "# dataset = pd.read_csv('new_dataset.csv')"
      ],
      "metadata": {
        "id": "353wMnyJA6M5"
      },
      "execution_count": 101,
      "outputs": []
    },
    {
      "cell_type": "markdown",
      "source": [
        "# **4. EXPLORATORY DATA ANALYSIS**"
      ],
      "metadata": {
        "id": "UeLAFP9CBpnk"
      }
    },
    {
      "cell_type": "markdown",
      "source": [
        "# a. Univariate Analysis"
      ],
      "metadata": {
        "id": "qELYrkyxCoGM"
      }
    },
    {
      "cell_type": "code",
      "source": [
        "# checking the statistical characteristics of the dataset\n",
        "dataset.describe()"
      ],
      "metadata": {
        "colab": {
          "base_uri": "https://localhost:8080/",
          "height": 300
        },
        "id": "S7kgnZYS1T9O",
        "outputId": "13cf338a-279d-4986-fdb1-9d5f418b523a"
      },
      "execution_count": 102,
      "outputs": [
        {
          "output_type": "execute_result",
          "data": {
            "text/plain": [
              "            Pclass          Sex          Age        SibSp        Parch  \\\n",
              "count  1149.000000  1149.000000  1149.000000  1149.000000  1149.000000   \n",
              "mean      2.235857     0.623151    29.821584     0.516971     0.426458   \n",
              "std       0.852892     0.484808    13.560113     0.971241     0.905383   \n",
              "min       1.000000     0.000000     0.000000     0.000000     0.000000   \n",
              "25%       1.000000     0.000000    22.000000     0.000000     0.000000   \n",
              "50%       3.000000     1.000000    29.000000     0.000000     0.000000   \n",
              "75%       3.000000     1.000000    36.000000     1.000000     1.000000   \n",
              "max       3.000000     1.000000    80.000000     8.000000     9.000000   \n",
              "\n",
              "              Fare     Embarked  \n",
              "count  1149.000000  1149.000000  \n",
              "mean     36.014596     1.484769  \n",
              "std      54.372283     0.829016  \n",
              "min       0.000000     0.000000  \n",
              "25%       8.050000     1.000000  \n",
              "50%      15.850000     2.000000  \n",
              "75%      34.375000     2.000000  \n",
              "max     512.329200     2.000000  "
            ],
            "text/html": [
              "\n",
              "  <div id=\"df-926966cb-369b-4696-b306-4875db67e723\">\n",
              "    <div class=\"colab-df-container\">\n",
              "      <div>\n",
              "<style scoped>\n",
              "    .dataframe tbody tr th:only-of-type {\n",
              "        vertical-align: middle;\n",
              "    }\n",
              "\n",
              "    .dataframe tbody tr th {\n",
              "        vertical-align: top;\n",
              "    }\n",
              "\n",
              "    .dataframe thead th {\n",
              "        text-align: right;\n",
              "    }\n",
              "</style>\n",
              "<table border=\"1\" class=\"dataframe\">\n",
              "  <thead>\n",
              "    <tr style=\"text-align: right;\">\n",
              "      <th></th>\n",
              "      <th>Pclass</th>\n",
              "      <th>Sex</th>\n",
              "      <th>Age</th>\n",
              "      <th>SibSp</th>\n",
              "      <th>Parch</th>\n",
              "      <th>Fare</th>\n",
              "      <th>Embarked</th>\n",
              "    </tr>\n",
              "  </thead>\n",
              "  <tbody>\n",
              "    <tr>\n",
              "      <th>count</th>\n",
              "      <td>1149.000000</td>\n",
              "      <td>1149.000000</td>\n",
              "      <td>1149.000000</td>\n",
              "      <td>1149.000000</td>\n",
              "      <td>1149.000000</td>\n",
              "      <td>1149.000000</td>\n",
              "      <td>1149.000000</td>\n",
              "    </tr>\n",
              "    <tr>\n",
              "      <th>mean</th>\n",
              "      <td>2.235857</td>\n",
              "      <td>0.623151</td>\n",
              "      <td>29.821584</td>\n",
              "      <td>0.516971</td>\n",
              "      <td>0.426458</td>\n",
              "      <td>36.014596</td>\n",
              "      <td>1.484769</td>\n",
              "    </tr>\n",
              "    <tr>\n",
              "      <th>std</th>\n",
              "      <td>0.852892</td>\n",
              "      <td>0.484808</td>\n",
              "      <td>13.560113</td>\n",
              "      <td>0.971241</td>\n",
              "      <td>0.905383</td>\n",
              "      <td>54.372283</td>\n",
              "      <td>0.829016</td>\n",
              "    </tr>\n",
              "    <tr>\n",
              "      <th>min</th>\n",
              "      <td>1.000000</td>\n",
              "      <td>0.000000</td>\n",
              "      <td>0.000000</td>\n",
              "      <td>0.000000</td>\n",
              "      <td>0.000000</td>\n",
              "      <td>0.000000</td>\n",
              "      <td>0.000000</td>\n",
              "    </tr>\n",
              "    <tr>\n",
              "      <th>25%</th>\n",
              "      <td>1.000000</td>\n",
              "      <td>0.000000</td>\n",
              "      <td>22.000000</td>\n",
              "      <td>0.000000</td>\n",
              "      <td>0.000000</td>\n",
              "      <td>8.050000</td>\n",
              "      <td>1.000000</td>\n",
              "    </tr>\n",
              "    <tr>\n",
              "      <th>50%</th>\n",
              "      <td>3.000000</td>\n",
              "      <td>1.000000</td>\n",
              "      <td>29.000000</td>\n",
              "      <td>0.000000</td>\n",
              "      <td>0.000000</td>\n",
              "      <td>15.850000</td>\n",
              "      <td>2.000000</td>\n",
              "    </tr>\n",
              "    <tr>\n",
              "      <th>75%</th>\n",
              "      <td>3.000000</td>\n",
              "      <td>1.000000</td>\n",
              "      <td>36.000000</td>\n",
              "      <td>1.000000</td>\n",
              "      <td>1.000000</td>\n",
              "      <td>34.375000</td>\n",
              "      <td>2.000000</td>\n",
              "    </tr>\n",
              "    <tr>\n",
              "      <th>max</th>\n",
              "      <td>3.000000</td>\n",
              "      <td>1.000000</td>\n",
              "      <td>80.000000</td>\n",
              "      <td>8.000000</td>\n",
              "      <td>9.000000</td>\n",
              "      <td>512.329200</td>\n",
              "      <td>2.000000</td>\n",
              "    </tr>\n",
              "  </tbody>\n",
              "</table>\n",
              "</div>\n",
              "      <button class=\"colab-df-convert\" onclick=\"convertToInteractive('df-926966cb-369b-4696-b306-4875db67e723')\"\n",
              "              title=\"Convert this dataframe to an interactive table.\"\n",
              "              style=\"display:none;\">\n",
              "        \n",
              "  <svg xmlns=\"http://www.w3.org/2000/svg\" height=\"24px\"viewBox=\"0 0 24 24\"\n",
              "       width=\"24px\">\n",
              "    <path d=\"M0 0h24v24H0V0z\" fill=\"none\"/>\n",
              "    <path d=\"M18.56 5.44l.94 2.06.94-2.06 2.06-.94-2.06-.94-.94-2.06-.94 2.06-2.06.94zm-11 1L8.5 8.5l.94-2.06 2.06-.94-2.06-.94L8.5 2.5l-.94 2.06-2.06.94zm10 10l.94 2.06.94-2.06 2.06-.94-2.06-.94-.94-2.06-.94 2.06-2.06.94z\"/><path d=\"M17.41 7.96l-1.37-1.37c-.4-.4-.92-.59-1.43-.59-.52 0-1.04.2-1.43.59L10.3 9.45l-7.72 7.72c-.78.78-.78 2.05 0 2.83L4 21.41c.39.39.9.59 1.41.59.51 0 1.02-.2 1.41-.59l7.78-7.78 2.81-2.81c.8-.78.8-2.07 0-2.86zM5.41 20L4 18.59l7.72-7.72 1.47 1.35L5.41 20z\"/>\n",
              "  </svg>\n",
              "      </button>\n",
              "      \n",
              "  <style>\n",
              "    .colab-df-container {\n",
              "      display:flex;\n",
              "      flex-wrap:wrap;\n",
              "      gap: 12px;\n",
              "    }\n",
              "\n",
              "    .colab-df-convert {\n",
              "      background-color: #E8F0FE;\n",
              "      border: none;\n",
              "      border-radius: 50%;\n",
              "      cursor: pointer;\n",
              "      display: none;\n",
              "      fill: #1967D2;\n",
              "      height: 32px;\n",
              "      padding: 0 0 0 0;\n",
              "      width: 32px;\n",
              "    }\n",
              "\n",
              "    .colab-df-convert:hover {\n",
              "      background-color: #E2EBFA;\n",
              "      box-shadow: 0px 1px 2px rgba(60, 64, 67, 0.3), 0px 1px 3px 1px rgba(60, 64, 67, 0.15);\n",
              "      fill: #174EA6;\n",
              "    }\n",
              "\n",
              "    [theme=dark] .colab-df-convert {\n",
              "      background-color: #3B4455;\n",
              "      fill: #D2E3FC;\n",
              "    }\n",
              "\n",
              "    [theme=dark] .colab-df-convert:hover {\n",
              "      background-color: #434B5C;\n",
              "      box-shadow: 0px 1px 3px 1px rgba(0, 0, 0, 0.15);\n",
              "      filter: drop-shadow(0px 1px 2px rgba(0, 0, 0, 0.3));\n",
              "      fill: #FFFFFF;\n",
              "    }\n",
              "  </style>\n",
              "\n",
              "      <script>\n",
              "        const buttonEl =\n",
              "          document.querySelector('#df-926966cb-369b-4696-b306-4875db67e723 button.colab-df-convert');\n",
              "        buttonEl.style.display =\n",
              "          google.colab.kernel.accessAllowed ? 'block' : 'none';\n",
              "\n",
              "        async function convertToInteractive(key) {\n",
              "          const element = document.querySelector('#df-926966cb-369b-4696-b306-4875db67e723');\n",
              "          const dataTable =\n",
              "            await google.colab.kernel.invokeFunction('convertToInteractive',\n",
              "                                                     [key], {});\n",
              "          if (!dataTable) return;\n",
              "\n",
              "          const docLinkHtml = 'Like what you see? Visit the ' +\n",
              "            '<a target=\"_blank\" href=https://colab.research.google.com/notebooks/data_table.ipynb>data table notebook</a>'\n",
              "            + ' to learn more about interactive tables.';\n",
              "          element.innerHTML = '';\n",
              "          dataTable['output_type'] = 'display_data';\n",
              "          await google.colab.output.renderOutput(dataTable, element);\n",
              "          const docLink = document.createElement('div');\n",
              "          docLink.innerHTML = docLinkHtml;\n",
              "          element.appendChild(docLink);\n",
              "        }\n",
              "      </script>\n",
              "    </div>\n",
              "  </div>\n",
              "  "
            ]
          },
          "metadata": {},
          "execution_count": 102
        }
      ]
    },
    {
      "cell_type": "markdown",
      "source": [
        "Fare has a minimum value of 0 which is odd."
      ],
      "metadata": {
        "id": "vCPbnM17DQoO"
      }
    },
    {
      "cell_type": "code",
      "source": [
        "# previewing the fare column\n",
        "dataset.loc[dataset.Fare==0.000]"
      ],
      "metadata": {
        "colab": {
          "base_uri": "https://localhost:8080/",
          "height": 426
        },
        "id": "fGwvTfZpDXzq",
        "outputId": "5b33e8cc-00d2-457e-e943-9326f67ca0af"
      },
      "execution_count": 103,
      "outputs": [
        {
          "output_type": "execute_result",
          "data": {
            "text/plain": [
              "            Survived  Pclass  Sex  Age  SibSp  Parch  Fare  Embarked\n",
              "PassengerId                                                         \n",
              "180              0.0       3    1   36      0      0   0.0         2\n",
              "264              0.0       1    1   40      0      0   0.0         2\n",
              "272              1.0       3    1   25      0      0   0.0         2\n",
              "278              0.0       2    1   29      0      0   0.0         2\n",
              "303              0.0       3    1   19      0      0   0.0         2\n",
              "598              0.0       3    1   49      0      0   0.0         2\n",
              "634              0.0       1    1   29      0      0   0.0         2\n",
              "807              0.0       1    1   39      0      0   0.0         2\n",
              "823              0.0       1    1   38      0      0   0.0         2\n",
              "1158             NaN       1    1   30      0      0   0.0         2\n",
              "1264             NaN       1    1   49      0      0   0.0         2"
            ],
            "text/html": [
              "\n",
              "  <div id=\"df-7dc0e9bf-fcc9-4d69-b748-5d014dba9721\">\n",
              "    <div class=\"colab-df-container\">\n",
              "      <div>\n",
              "<style scoped>\n",
              "    .dataframe tbody tr th:only-of-type {\n",
              "        vertical-align: middle;\n",
              "    }\n",
              "\n",
              "    .dataframe tbody tr th {\n",
              "        vertical-align: top;\n",
              "    }\n",
              "\n",
              "    .dataframe thead th {\n",
              "        text-align: right;\n",
              "    }\n",
              "</style>\n",
              "<table border=\"1\" class=\"dataframe\">\n",
              "  <thead>\n",
              "    <tr style=\"text-align: right;\">\n",
              "      <th></th>\n",
              "      <th>Survived</th>\n",
              "      <th>Pclass</th>\n",
              "      <th>Sex</th>\n",
              "      <th>Age</th>\n",
              "      <th>SibSp</th>\n",
              "      <th>Parch</th>\n",
              "      <th>Fare</th>\n",
              "      <th>Embarked</th>\n",
              "    </tr>\n",
              "    <tr>\n",
              "      <th>PassengerId</th>\n",
              "      <th></th>\n",
              "      <th></th>\n",
              "      <th></th>\n",
              "      <th></th>\n",
              "      <th></th>\n",
              "      <th></th>\n",
              "      <th></th>\n",
              "      <th></th>\n",
              "    </tr>\n",
              "  </thead>\n",
              "  <tbody>\n",
              "    <tr>\n",
              "      <th>180</th>\n",
              "      <td>0.0</td>\n",
              "      <td>3</td>\n",
              "      <td>1</td>\n",
              "      <td>36</td>\n",
              "      <td>0</td>\n",
              "      <td>0</td>\n",
              "      <td>0.0</td>\n",
              "      <td>2</td>\n",
              "    </tr>\n",
              "    <tr>\n",
              "      <th>264</th>\n",
              "      <td>0.0</td>\n",
              "      <td>1</td>\n",
              "      <td>1</td>\n",
              "      <td>40</td>\n",
              "      <td>0</td>\n",
              "      <td>0</td>\n",
              "      <td>0.0</td>\n",
              "      <td>2</td>\n",
              "    </tr>\n",
              "    <tr>\n",
              "      <th>272</th>\n",
              "      <td>1.0</td>\n",
              "      <td>3</td>\n",
              "      <td>1</td>\n",
              "      <td>25</td>\n",
              "      <td>0</td>\n",
              "      <td>0</td>\n",
              "      <td>0.0</td>\n",
              "      <td>2</td>\n",
              "    </tr>\n",
              "    <tr>\n",
              "      <th>278</th>\n",
              "      <td>0.0</td>\n",
              "      <td>2</td>\n",
              "      <td>1</td>\n",
              "      <td>29</td>\n",
              "      <td>0</td>\n",
              "      <td>0</td>\n",
              "      <td>0.0</td>\n",
              "      <td>2</td>\n",
              "    </tr>\n",
              "    <tr>\n",
              "      <th>303</th>\n",
              "      <td>0.0</td>\n",
              "      <td>3</td>\n",
              "      <td>1</td>\n",
              "      <td>19</td>\n",
              "      <td>0</td>\n",
              "      <td>0</td>\n",
              "      <td>0.0</td>\n",
              "      <td>2</td>\n",
              "    </tr>\n",
              "    <tr>\n",
              "      <th>598</th>\n",
              "      <td>0.0</td>\n",
              "      <td>3</td>\n",
              "      <td>1</td>\n",
              "      <td>49</td>\n",
              "      <td>0</td>\n",
              "      <td>0</td>\n",
              "      <td>0.0</td>\n",
              "      <td>2</td>\n",
              "    </tr>\n",
              "    <tr>\n",
              "      <th>634</th>\n",
              "      <td>0.0</td>\n",
              "      <td>1</td>\n",
              "      <td>1</td>\n",
              "      <td>29</td>\n",
              "      <td>0</td>\n",
              "      <td>0</td>\n",
              "      <td>0.0</td>\n",
              "      <td>2</td>\n",
              "    </tr>\n",
              "    <tr>\n",
              "      <th>807</th>\n",
              "      <td>0.0</td>\n",
              "      <td>1</td>\n",
              "      <td>1</td>\n",
              "      <td>39</td>\n",
              "      <td>0</td>\n",
              "      <td>0</td>\n",
              "      <td>0.0</td>\n",
              "      <td>2</td>\n",
              "    </tr>\n",
              "    <tr>\n",
              "      <th>823</th>\n",
              "      <td>0.0</td>\n",
              "      <td>1</td>\n",
              "      <td>1</td>\n",
              "      <td>38</td>\n",
              "      <td>0</td>\n",
              "      <td>0</td>\n",
              "      <td>0.0</td>\n",
              "      <td>2</td>\n",
              "    </tr>\n",
              "    <tr>\n",
              "      <th>1158</th>\n",
              "      <td>NaN</td>\n",
              "      <td>1</td>\n",
              "      <td>1</td>\n",
              "      <td>30</td>\n",
              "      <td>0</td>\n",
              "      <td>0</td>\n",
              "      <td>0.0</td>\n",
              "      <td>2</td>\n",
              "    </tr>\n",
              "    <tr>\n",
              "      <th>1264</th>\n",
              "      <td>NaN</td>\n",
              "      <td>1</td>\n",
              "      <td>1</td>\n",
              "      <td>49</td>\n",
              "      <td>0</td>\n",
              "      <td>0</td>\n",
              "      <td>0.0</td>\n",
              "      <td>2</td>\n",
              "    </tr>\n",
              "  </tbody>\n",
              "</table>\n",
              "</div>\n",
              "      <button class=\"colab-df-convert\" onclick=\"convertToInteractive('df-7dc0e9bf-fcc9-4d69-b748-5d014dba9721')\"\n",
              "              title=\"Convert this dataframe to an interactive table.\"\n",
              "              style=\"display:none;\">\n",
              "        \n",
              "  <svg xmlns=\"http://www.w3.org/2000/svg\" height=\"24px\"viewBox=\"0 0 24 24\"\n",
              "       width=\"24px\">\n",
              "    <path d=\"M0 0h24v24H0V0z\" fill=\"none\"/>\n",
              "    <path d=\"M18.56 5.44l.94 2.06.94-2.06 2.06-.94-2.06-.94-.94-2.06-.94 2.06-2.06.94zm-11 1L8.5 8.5l.94-2.06 2.06-.94-2.06-.94L8.5 2.5l-.94 2.06-2.06.94zm10 10l.94 2.06.94-2.06 2.06-.94-2.06-.94-.94-2.06-.94 2.06-2.06.94z\"/><path d=\"M17.41 7.96l-1.37-1.37c-.4-.4-.92-.59-1.43-.59-.52 0-1.04.2-1.43.59L10.3 9.45l-7.72 7.72c-.78.78-.78 2.05 0 2.83L4 21.41c.39.39.9.59 1.41.59.51 0 1.02-.2 1.41-.59l7.78-7.78 2.81-2.81c.8-.78.8-2.07 0-2.86zM5.41 20L4 18.59l7.72-7.72 1.47 1.35L5.41 20z\"/>\n",
              "  </svg>\n",
              "      </button>\n",
              "      \n",
              "  <style>\n",
              "    .colab-df-container {\n",
              "      display:flex;\n",
              "      flex-wrap:wrap;\n",
              "      gap: 12px;\n",
              "    }\n",
              "\n",
              "    .colab-df-convert {\n",
              "      background-color: #E8F0FE;\n",
              "      border: none;\n",
              "      border-radius: 50%;\n",
              "      cursor: pointer;\n",
              "      display: none;\n",
              "      fill: #1967D2;\n",
              "      height: 32px;\n",
              "      padding: 0 0 0 0;\n",
              "      width: 32px;\n",
              "    }\n",
              "\n",
              "    .colab-df-convert:hover {\n",
              "      background-color: #E2EBFA;\n",
              "      box-shadow: 0px 1px 2px rgba(60, 64, 67, 0.3), 0px 1px 3px 1px rgba(60, 64, 67, 0.15);\n",
              "      fill: #174EA6;\n",
              "    }\n",
              "\n",
              "    [theme=dark] .colab-df-convert {\n",
              "      background-color: #3B4455;\n",
              "      fill: #D2E3FC;\n",
              "    }\n",
              "\n",
              "    [theme=dark] .colab-df-convert:hover {\n",
              "      background-color: #434B5C;\n",
              "      box-shadow: 0px 1px 3px 1px rgba(0, 0, 0, 0.15);\n",
              "      filter: drop-shadow(0px 1px 2px rgba(0, 0, 0, 0.3));\n",
              "      fill: #FFFFFF;\n",
              "    }\n",
              "  </style>\n",
              "\n",
              "      <script>\n",
              "        const buttonEl =\n",
              "          document.querySelector('#df-7dc0e9bf-fcc9-4d69-b748-5d014dba9721 button.colab-df-convert');\n",
              "        buttonEl.style.display =\n",
              "          google.colab.kernel.accessAllowed ? 'block' : 'none';\n",
              "\n",
              "        async function convertToInteractive(key) {\n",
              "          const element = document.querySelector('#df-7dc0e9bf-fcc9-4d69-b748-5d014dba9721');\n",
              "          const dataTable =\n",
              "            await google.colab.kernel.invokeFunction('convertToInteractive',\n",
              "                                                     [key], {});\n",
              "          if (!dataTable) return;\n",
              "\n",
              "          const docLinkHtml = 'Like what you see? Visit the ' +\n",
              "            '<a target=\"_blank\" href=https://colab.research.google.com/notebooks/data_table.ipynb>data table notebook</a>'\n",
              "            + ' to learn more about interactive tables.';\n",
              "          element.innerHTML = '';\n",
              "          dataTable['output_type'] = 'display_data';\n",
              "          await google.colab.output.renderOutput(dataTable, element);\n",
              "          const docLink = document.createElement('div');\n",
              "          docLink.innerHTML = docLinkHtml;\n",
              "          element.appendChild(docLink);\n",
              "        }\n",
              "      </script>\n",
              "    </div>\n",
              "  </div>\n",
              "  "
            ]
          },
          "metadata": {},
          "execution_count": 103
        }
      ]
    },
    {
      "cell_type": "code",
      "source": [
        "# Decoding the encoded values \n",
        "print(\"Sex:\", class_dict['Sex'][1])\n",
        "print(\"Embarked:\", class_dict['Embarked'][2])"
      ],
      "metadata": {
        "colab": {
          "base_uri": "https://localhost:8080/"
        },
        "id": "_Q_elwnADPZS",
        "outputId": "4dabb2ae-f4cc-499c-be4e-76435538220a"
      },
      "execution_count": 104,
      "outputs": [
        {
          "output_type": "stream",
          "name": "stdout",
          "text": [
            "Sex: male\n",
            "Embarked: S\n"
          ]
        }
      ]
    },
    {
      "cell_type": "markdown",
      "source": [
        "We can see that the ones with a Fare of 0 are all males ranging from age 19 to 49, and they all embarked at location S. They all don't have parents, children, or siblings with them. Of these 11 from both the train and the test datasets combined, only 1 survived in the train dataset while the survival status of two of them is unknown. We can confidently say that the chances of survival are extremely low for those passengers in the test dataset who paid 0 and embarked at S."
      ],
      "metadata": {
        "id": "5Za1vs5RDs7M"
      }
    },
    {
      "cell_type": "code",
      "source": [
        "dataset.hist(figsize=[20,18])"
      ],
      "metadata": {
        "colab": {
          "base_uri": "https://localhost:8080/",
          "height": 1000
        },
        "id": "nlPrFeV-D8tR",
        "outputId": "5e5519a5-f7b3-4de1-bf0d-131b5d33f329"
      },
      "execution_count": 105,
      "outputs": [
        {
          "output_type": "execute_result",
          "data": {
            "text/plain": [
              "array([[<matplotlib.axes._subplots.AxesSubplot object at 0x7fa85e42e350>,\n",
              "        <matplotlib.axes._subplots.AxesSubplot object at 0x7fa85e2cc350>,\n",
              "        <matplotlib.axes._subplots.AxesSubplot object at 0x7fa85e2fc950>],\n",
              "       [<matplotlib.axes._subplots.AxesSubplot object at 0x7fa85e2b3ed0>,\n",
              "        <matplotlib.axes._subplots.AxesSubplot object at 0x7fa85e278510>,\n",
              "        <matplotlib.axes._subplots.AxesSubplot object at 0x7fa85e22fb10>],\n",
              "       [<matplotlib.axes._subplots.AxesSubplot object at 0x7fa85e1f21d0>,\n",
              "        <matplotlib.axes._subplots.AxesSubplot object at 0x7fa85e1a9690>,\n",
              "        <matplotlib.axes._subplots.AxesSubplot object at 0x7fa85e1a96d0>]],\n",
              "      dtype=object)"
            ]
          },
          "metadata": {},
          "execution_count": 105
        },
        {
          "output_type": "display_data",
          "data": {
            "text/plain": [
              "<Figure size 1440x1296 with 9 Axes>"
            ],
            "image/png": "[encoded data removed]"
          },
          "metadata": {
            "needs_background": "light"
          }
        }
      ]
    },
    {
      "cell_type": "markdown",
      "source": [
        "There is a lot of information to be cleaned from these diagrams.\n",
        "\n",
        "There is an age range from 0 to 80 with most of the passengers being between 22-32 years of age\n",
        "\n",
        "Most of them embarked at location S (code 2)\n",
        "\n",
        "Most of them paid fare of between 0 to around 50\n",
        "\n",
        "The most common value for the Parch variable is 0 followed by 1\n",
        "\n",
        "Most of the passengers were in 3rd class, and those in 1st class only slightly outnumber those in 2nd\n",
        "\n",
        "There were more men than women\n",
        "\n",
        "The most common value for the SibSp variable is 0 followed by 1"
      ],
      "metadata": {
        "id": "MgVJvv1zEKEY"
      }
    },
    {
      "cell_type": "code",
      "source": [
        "# viewing the countplot of those who survived vs those who didn't\n",
        "dataset.Survived.value_counts().plot(kind = 'bar', rot = 0, figsize=[8,6]) "
      ],
      "metadata": {
        "colab": {
          "base_uri": "https://localhost:8080/",
          "height": 391
        },
        "id": "kR2sGjbXEeRD",
        "outputId": "d8799e93-7b7a-45a7-90a4-72e169e7cfab"
      },
      "execution_count": 106,
      "outputs": [
        {
          "output_type": "execute_result",
          "data": {
            "text/plain": [
              "<matplotlib.axes._subplots.AxesSubplot at 0x7fa85de8d350>"
            ]
          },
          "metadata": {},
          "execution_count": 106
        },
        {
          "output_type": "display_data",
          "data": {
            "text/plain": [
              "<Figure size 576x432 with 1 Axes>"
            ],
            "image/png": "[encoded data removed]"
          },
          "metadata": {
            "needs_background": "light"
          }
        }
      ]
    },
    {
      "cell_type": "code",
      "source": [
        "# using a piechart\n",
        "# Checking the survival rate distribution\n",
        "# \n",
        "labels = ['No', 'Yes']\n",
        "sizes = [215,130]\n",
        "colors = ['blue', 'maroon']\n",
        "plt.pie(sizes, labels=labels, colors=colors, shadow=True,startangle=140)\n",
        "plt.axis('equal')\n",
        "plt.title('Survival distribution')\n",
        "plt.show()"
      ],
      "metadata": {
        "colab": {
          "base_uri": "https://localhost:8080/",
          "height": 264
        },
        "id": "7IYB16PJIR33",
        "outputId": "145f2a29-04f3-471b-b666-adc21b10f2a0"
      },
      "execution_count": 107,
      "outputs": [
        {
          "output_type": "display_data",
          "data": {
            "text/plain": [
              "<Figure size 432x288 with 1 Axes>"
            ],
            "image/png": "[encoded data removed]"
          },
          "metadata": {}
        }
      ]
    },
    {
      "cell_type": "markdown",
      "source": [
        "From the plots above, We see that majority of the passengers did not survive. However, those who survived are more than half of those who did not."
      ],
      "metadata": {
        "id": "OrecZonCInIM"
      }
    },
    {
      "cell_type": "code",
      "source": [
        "#  Checking the distribution of Sex column\n",
        "# \n",
        "print(dataset.Sex.value_counts())\n",
        "\n",
        "sns.set_style('dark')\n",
        "sns.countplot(x='Sex',data=dataset)"
      ],
      "metadata": {
        "colab": {
          "base_uri": "https://localhost:8080/",
          "height": 348
        },
        "id": "vDtj6WBZFvN4",
        "outputId": "8daf2506-c07f-4048-c6a3-5ef124b218ae"
      },
      "execution_count": 108,
      "outputs": [
        {
          "output_type": "stream",
          "name": "stdout",
          "text": [
            "1    716\n",
            "0    433\n",
            "Name: Sex, dtype: int64\n"
          ]
        },
        {
          "output_type": "execute_result",
          "data": {
            "text/plain": [
              "<matplotlib.axes._subplots.AxesSubplot at 0x7fa85de09350>"
            ]
          },
          "metadata": {},
          "execution_count": 108
        },
        {
          "output_type": "display_data",
          "data": {
            "text/plain": [
              "<Figure size 432x288 with 1 Axes>"
            ],
            "image/png": "[encoded data removed]"
          },
          "metadata": {}
        }
      ]
    },
    {
      "cell_type": "markdown",
      "source": [
        "716 of the passengers were males while 433 were females."
      ],
      "metadata": {
        "id": "RggOMjP7GTrQ"
      }
    },
    {
      "cell_type": "code",
      "source": [
        "#  Checking the distribution of Pclass column\n",
        "# \n",
        "print(dataset.Pclass.value_counts())\n",
        "sns.set_style('dark')\n",
        "sns.countplot(x='Pclass',data=dataset)"
      ],
      "metadata": {
        "colab": {
          "base_uri": "https://localhost:8080/",
          "height": 366
        },
        "id": "YF0jH9Q7Gf_u",
        "outputId": "3718ff2a-cee6-414e-af0d-c33f5bf2ea2f"
      },
      "execution_count": 109,
      "outputs": [
        {
          "output_type": "stream",
          "name": "stdout",
          "text": [
            "3    585\n",
            "1    314\n",
            "2    250\n",
            "Name: Pclass, dtype: int64\n"
          ]
        },
        {
          "output_type": "execute_result",
          "data": {
            "text/plain": [
              "<matplotlib.axes._subplots.AxesSubplot at 0x7fa85ddefe90>"
            ]
          },
          "metadata": {},
          "execution_count": 109
        },
        {
          "output_type": "display_data",
          "data": {
            "text/plain": [
              "<Figure size 432x288 with 1 Axes>"
            ],
            "image/png": "[encoded data removed]"
          },
          "metadata": {}
        }
      ]
    },
    {
      "cell_type": "markdown",
      "source": [
        "Majority of the passengers were in 3rd class (585) followed by those in 1st class (314) followed by 2nd class (250).\n",
        "\n",
        "From external data source, the 1st class cabin was very fancy compared to the 3rd class which explains the observation above that there was a big number of passengers in the 3rd class."
      ],
      "metadata": {
        "id": "NjDD3GR4Gw0b"
      }
    },
    {
      "cell_type": "code",
      "source": [
        "# distribution across point of embarkment\n",
        "print(dataset.Embarked.value_counts())\n",
        "\n",
        "sns.set_style('dark')\n",
        "sns.countplot(x='Embarked',data=dataset)"
      ],
      "metadata": {
        "colab": {
          "base_uri": "https://localhost:8080/",
          "height": 366
        },
        "id": "3LuNgGUxHEDE",
        "outputId": "2bf16eaf-9744-4b12-da67-fd0d46e0c180"
      },
      "execution_count": 110,
      "outputs": [
        {
          "output_type": "stream",
          "name": "stdout",
          "text": [
            "2    808\n",
            "0    251\n",
            "1     90\n",
            "Name: Embarked, dtype: int64\n"
          ]
        },
        {
          "output_type": "execute_result",
          "data": {
            "text/plain": [
              "<matplotlib.axes._subplots.AxesSubplot at 0x7fa85dd4a110>"
            ]
          },
          "metadata": {},
          "execution_count": 110
        },
        {
          "output_type": "display_data",
          "data": {
            "text/plain": [
              "<Figure size 432x288 with 1 Axes>"
            ],
            "image/png": "[encoded data removed]"
          },
          "metadata": {}
        }
      ]
    },
    {
      "cell_type": "code",
      "source": [
        "print(\"2:\", class_dict['Embarked'][2])\n",
        "print(\"0:\", class_dict['Embarked'][0])\n",
        "print(\"1:\", class_dict['Embarked'][1])"
      ],
      "metadata": {
        "colab": {
          "base_uri": "https://localhost:8080/"
        },
        "id": "lEDbCoF7HfjU",
        "outputId": "91c60f17-f3cf-47fe-aab1-76fb883347c1"
      },
      "execution_count": 111,
      "outputs": [
        {
          "output_type": "stream",
          "name": "stdout",
          "text": [
            "2: S\n",
            "0: C\n",
            "1: Q\n"
          ]
        }
      ]
    },
    {
      "cell_type": "markdown",
      "source": [
        "The embarked entries are C = Cherbourg, Q = Queenstown, S = Southampton, where Southampton had the highest entry of 808, followed by Cherbourg and Queenstown was the least with 90"
      ],
      "metadata": {
        "id": "GhpatVKMHtAi"
      }
    },
    {
      "cell_type": "code",
      "source": [
        "# parent-child distribution\n",
        "print(dataset.Parch.value_counts())\n",
        "\n",
        "sns.set_style('dark')\n",
        "sns.countplot(x='Parch',data=dataset)"
      ],
      "metadata": {
        "colab": {
          "base_uri": "https://localhost:8080/",
          "height": 453
        },
        "id": "cfff2km4Ixa9",
        "outputId": "dd122b7e-d463-4a7d-f7c8-2975bd247898"
      },
      "execution_count": 112,
      "outputs": [
        {
          "output_type": "stream",
          "name": "stdout",
          "text": [
            "0    851\n",
            "1    166\n",
            "2    108\n",
            "3      8\n",
            "5      6\n",
            "4      6\n",
            "6      2\n",
            "9      2\n",
            "Name: Parch, dtype: int64\n"
          ]
        },
        {
          "output_type": "execute_result",
          "data": {
            "text/plain": [
              "<matplotlib.axes._subplots.AxesSubplot at 0x7fa85dd3b050>"
            ]
          },
          "metadata": {},
          "execution_count": 112
        },
        {
          "output_type": "display_data",
          "data": {
            "text/plain": [
              "<Figure size 432x288 with 1 Axes>"
            ],
            "image/png": "[encoded data removed]"
          },
          "metadata": {}
        }
      ]
    },
    {
      "cell_type": "markdown",
      "source": [
        "Number of parents / children aboard the Titanic reduces as the value increases\n",
        "\n",
        "*   851 didn't have any parent or child with them\n",
        "\n",
        "\n",
        "*   166 had 1 parent or child with them\n",
        "\n",
        "*   108 had 2 parents or children with them\n",
        "*  8 had 3 parents or children with them\n",
        "\n",
        "\n",
        "*  6 had 4 parents or children with them\n",
        "\n",
        "\n",
        "*   6 had 5 parents or children with them\n",
        "\n",
        "\n",
        "*   2 had 9 parents or children with them\n",
        "\n",
        "\n",
        "\n"
      ],
      "metadata": {
        "id": "blwALIujJPpK"
      }
    },
    {
      "cell_type": "code",
      "source": [
        "# siblings/spouses distribution\n",
        "print(dataset.SibSp.value_counts())\n",
        "\n",
        "sns.set_style('dark')\n",
        "sns.countplot(x='SibSp',data=dataset)"
      ],
      "metadata": {
        "colab": {
          "base_uri": "https://localhost:8080/",
          "height": 435
        },
        "id": "qUEt0Kn_JxWK",
        "outputId": "566ae8a9-d789-4188-832f-fa7a63f16b3a"
      },
      "execution_count": 113,
      "outputs": [
        {
          "output_type": "stream",
          "name": "stdout",
          "text": [
            "0    749\n",
            "1    310\n",
            "2     40\n",
            "4     22\n",
            "3     18\n",
            "5      6\n",
            "8      4\n",
            "Name: SibSp, dtype: int64\n"
          ]
        },
        {
          "output_type": "execute_result",
          "data": {
            "text/plain": [
              "<matplotlib.axes._subplots.AxesSubplot at 0x7fa85dcb7bd0>"
            ]
          },
          "metadata": {},
          "execution_count": 113
        },
        {
          "output_type": "display_data",
          "data": {
            "text/plain": [
              "<Figure size 432x288 with 1 Axes>"
            ],
            "image/png": "[encoded data removed]"
          },
          "metadata": {}
        }
      ]
    },
    {
      "cell_type": "markdown",
      "source": [
        "The number of siblings / spouses aboard the Titanic decreased as the number increased.\n",
        "\n",
        "\n",
        "*   749 didn't have any siblings or spouses with them\n",
        "\n",
        "*   310 had 1 sibling or spouse with them\n",
        "\n",
        "*   40 had 2 siblings or spouses with them\n",
        "\n",
        "*   22 had 4 siblings or spouses with them\n",
        "\n",
        "*   18 had 3 siblings or spouses with them\n",
        "*   6 had 5 siblings or spouses with them\n",
        "\n",
        "*   4 had 8 siblings or spouses with them\n",
        "\n",
        "\n",
        "\n",
        "\n",
        "\n",
        "\n",
        "\n",
        "\n",
        "\n",
        "\n",
        "\n",
        "\n",
        "\n"
      ],
      "metadata": {
        "id": "fciy_jpYLLqv"
      }
    },
    {
      "cell_type": "markdown",
      "source": [
        "Age Column"
      ],
      "metadata": {
        "id": "q3cNkWDoMJgZ"
      }
    },
    {
      "cell_type": "code",
      "source": [
        "# distribution of age\n",
        "\n",
        "fig, ax = plt.subplots(figsize = (10, 8))\n",
        "sns.distplot(dataset.Age, ax = ax)"
      ],
      "metadata": {
        "colab": {
          "base_uri": "https://localhost:8080/",
          "height": 514
        },
        "id": "xYqvphJKMIb8",
        "outputId": "0daecd60-c109-4d10-96e1-94aa9bd0f61b"
      },
      "execution_count": 114,
      "outputs": [
        {
          "output_type": "execute_result",
          "data": {
            "text/plain": [
              "<matplotlib.axes._subplots.AxesSubplot at 0x7fa85dc7f510>"
            ]
          },
          "metadata": {},
          "execution_count": 114
        },
        {
          "output_type": "display_data",
          "data": {
            "text/plain": [
              "<Figure size 720x576 with 1 Axes>"
            ],
            "image/png": "[encoded data removed]"
          },
          "metadata": {}
        }
      ]
    },
    {
      "cell_type": "markdown",
      "source": [
        "The distribution appears to be normal and leptokurtic."
      ],
      "metadata": {
        "id": "3PFjcuPpMRuQ"
      }
    },
    {
      "cell_type": "code",
      "source": [
        "# fare distribution\n",
        "\n",
        "fig, ax = plt.subplots(figsize = (10, 8))\n",
        "sns.distplot(dataset.Fare, ax = ax)"
      ],
      "metadata": {
        "colab": {
          "base_uri": "https://localhost:8080/",
          "height": 514
        },
        "id": "kkjidvtGMWZW",
        "outputId": "57ec0eb7-e534-4d40-b64c-3fc0f281b751"
      },
      "execution_count": 115,
      "outputs": [
        {
          "output_type": "execute_result",
          "data": {
            "text/plain": [
              "<matplotlib.axes._subplots.AxesSubplot at 0x7fa85db53dd0>"
            ]
          },
          "metadata": {},
          "execution_count": 115
        },
        {
          "output_type": "display_data",
          "data": {
            "text/plain": [
              "<Figure size 720x576 with 1 Axes>"
            ],
            "image/png": "[encoded data removed]"
          },
          "metadata": {}
        }
      ]
    },
    {
      "cell_type": "markdown",
      "source": [
        "The distribution for the Fares is positively skewed with majority of the values occuring between 0 and 280 while peaking at between 0 to 50. This shows that there are a lot of outliers in this column. We will not remove them because they could prove to be insightful."
      ],
      "metadata": {
        "id": "yFUdHH3XMZ4u"
      }
    },
    {
      "cell_type": "markdown",
      "source": [
        "# b. Bivariate Analysis"
      ],
      "metadata": {
        "id": "iW1xJ_-fMmZx"
      }
    },
    {
      "cell_type": "code",
      "source": [
        "# survival status by gender\n",
        "print(dataset.groupby('Survived').Sex.value_counts())\n",
        "pd.crosstab(dataset.Sex, dataset.Survived).plot(kind = 'bar', rot = 0, figsize = [10, 8])"
      ],
      "metadata": {
        "colab": {
          "base_uri": "https://localhost:8080/",
          "height": 619
        },
        "id": "Z_AldGgRNg9T",
        "outputId": "5a7b274f-4344-4b36-d755-8048c8c59cba"
      },
      "execution_count": 116,
      "outputs": [
        {
          "output_type": "stream",
          "name": "stdout",
          "text": [
            "Survived  Sex\n",
            "0.0       1      378\n",
            "          0       76\n",
            "1.0       0      213\n",
            "          1      105\n",
            "Name: Sex, dtype: int64\n"
          ]
        },
        {
          "output_type": "execute_result",
          "data": {
            "text/plain": [
              "<matplotlib.axes._subplots.AxesSubplot at 0x7fa85db94450>"
            ]
          },
          "metadata": {},
          "execution_count": 116
        },
        {
          "output_type": "display_data",
          "data": {
            "text/plain": [
              "<Figure size 720x576 with 1 Axes>"
            ],
            "image/png": "[encoded data removed]"
          },
          "metadata": {}
        }
      ]
    },
    {
      "cell_type": "markdown",
      "source": [
        "Most male passengers did not survive the accident compared to the ladies who survived.\n",
        "\n",
        "Of those who survived, majority are females (213) compared to males (105). Of those who didn't survive, males outnumber females 378 to 76.\n"
      ],
      "metadata": {
        "id": "XCWZGCuGNxgC"
      }
    },
    {
      "cell_type": "code",
      "source": [
        "# survival status by class\n",
        "print(dataset.groupby('Survived').Pclass.value_counts())\n",
        "\n",
        "fig, ax = plt.subplots(figsize = (10, 8))\n",
        "sns.countplot('Pclass', hue = 'Survived', data = dataset, ax = ax)"
      ],
      "metadata": {
        "colab": {
          "base_uri": "https://localhost:8080/",
          "height": 653
        },
        "id": "YfUPZ-KeOL7q",
        "outputId": "d5ebe798-cfec-46d1-8d06-a9b2b3476a55"
      },
      "execution_count": 117,
      "outputs": [
        {
          "output_type": "stream",
          "name": "stdout",
          "text": [
            "Survived  Pclass\n",
            "0.0       3         296\n",
            "          2          81\n",
            "          1          77\n",
            "1.0       1         133\n",
            "          3         103\n",
            "          2          82\n",
            "Name: Pclass, dtype: int64\n"
          ]
        },
        {
          "output_type": "execute_result",
          "data": {
            "text/plain": [
              "<matplotlib.axes._subplots.AxesSubplot at 0x7fa85e2492d0>"
            ]
          },
          "metadata": {},
          "execution_count": 117
        },
        {
          "output_type": "display_data",
          "data": {
            "text/plain": [
              "<Figure size 720x576 with 1 Axes>"
            ],
            "image/png": "[encoded data removed]"
          },
          "metadata": {}
        }
      ]
    },
    {
      "cell_type": "markdown",
      "source": [
        "Of those who didn't surive, 296 were in 3rd class, 81 were in 2nd class and 77 were in 1st class. Of those who did survive, 133 were in 1st class, 103 were in 3rd class and 82 were in 2nd class. \n",
        "\n",
        "It is clear that being in 1st class increased your chances of survival, this is because they were few meaning that their evacuation was easy while it was a somewhat unpredictable gamble whether you survived or not if you were in 3rd class."
      ],
      "metadata": {
        "id": "oFSsE-5aOoIx"
      }
    },
    {
      "cell_type": "code",
      "source": [
        "# survival status by siblings/spouses\n",
        "print(dataset.groupby('Survived').SibSp.value_counts())\n",
        "\n",
        "fig, ax = plt.subplots(figsize = (10, 8))\n",
        "sns.countplot('SibSp', hue = 'Survived', data = dataset, ax = ax)"
      ],
      "metadata": {
        "colab": {
          "base_uri": "https://localhost:8080/",
          "height": 757
        },
        "id": "2KHyd4kAOnxJ",
        "outputId": "7026b05a-54bf-450b-f377-23540be666fc"
      },
      "execution_count": 118,
      "outputs": [
        {
          "output_type": "stream",
          "name": "stdout",
          "text": [
            "Survived  SibSp\n",
            "0.0       0        313\n",
            "          1         94\n",
            "          2         15\n",
            "          4         15\n",
            "          3         10\n",
            "          5          5\n",
            "          8          2\n",
            "1.0       0        192\n",
            "          1        107\n",
            "          2         12\n",
            "          3          4\n",
            "          4          3\n",
            "Name: SibSp, dtype: int64\n"
          ]
        },
        {
          "output_type": "execute_result",
          "data": {
            "text/plain": [
              "<matplotlib.axes._subplots.AxesSubplot at 0x7fa85e39da50>"
            ]
          },
          "metadata": {},
          "execution_count": 118
        },
        {
          "output_type": "display_data",
          "data": {
            "text/plain": [
              "<Figure size 720x576 with 1 Axes>"
            ],
            "image/png": "[encoded data removed]"
          },
          "metadata": {}
        }
      ]
    },
    {
      "cell_type": "markdown",
      "source": [
        "Of those who did not survive:\n",
        "\n",
        "\n",
        "*   313 didn't have any siblings or spouses with them\n",
        "\n",
        "*   94 had 1 sibling or spouse with them\n",
        "\n",
        "*   15 had 2 siblings or spouses with them\n",
        "\n",
        "*  10 had 3 siblings or spouses with them\n",
        "\n",
        "*   15 had 4 siblings or spouses with them\n",
        "*   5 had 5 siblings or spouses with them\n",
        "\n",
        "\n",
        "*   2 had 8 siblings or spouses with them\n",
        "\n",
        "\n",
        "Of those who did survive:\n",
        "\n",
        "\n",
        "\n",
        "*  192 didn't have any siblings or spouses with them\n",
        "*  107 had 1 sibling or spouse with them\n",
        "\n",
        "\n",
        "\n",
        "* 12 had 2 siblings or spouses with them\n",
        "\n",
        "*   4 had 3 siblings or spouses with them\n",
        "*  3 had 4 siblings or spouses with them\n",
        "\n",
        "An interesting thing to note here is that those who survived and had 1 sibling or spouse with them outnumbers those who had the same number of siblings or spouses but did not survive. We could assume it is because they looked out for each other and it was easier to do so compared to when they had more than 1 sibling or spouse."
      ],
      "metadata": {
        "id": "T1UUkZRIQ1C7"
      }
    },
    {
      "cell_type": "code",
      "source": [
        "# survival status by parent-child\n",
        "print(dataset.groupby('Survived').Parch.value_counts())\n",
        "\n",
        "fig, ax = plt.subplots(figsize = (10, 8))\n",
        "sns.countplot('Parch', hue = 'Survived', data = dataset, ax = ax)"
      ],
      "metadata": {
        "colab": {
          "base_uri": "https://localhost:8080/",
          "height": 757
        },
        "id": "MPyY6Zt2Qxe4",
        "outputId": "89eb3a43-2b5b-448d-d601-f3fd7ce84480"
      },
      "execution_count": 119,
      "outputs": [
        {
          "output_type": "stream",
          "name": "stdout",
          "text": [
            "Survived  Parch\n",
            "0.0       0        357\n",
            "          1         51\n",
            "          2         35\n",
            "          4          4\n",
            "          5          4\n",
            "          3          2\n",
            "          6          1\n",
            "1.0       0        211\n",
            "          1         63\n",
            "          2         40\n",
            "          3          3\n",
            "          5          1\n",
            "Name: Parch, dtype: int64\n"
          ]
        },
        {
          "output_type": "execute_result",
          "data": {
            "text/plain": [
              "<matplotlib.axes._subplots.AxesSubplot at 0x7fa85da6e210>"
            ]
          },
          "metadata": {},
          "execution_count": 119
        },
        {
          "output_type": "display_data",
          "data": {
            "text/plain": [
              "<Figure size 720x576 with 1 Axes>"
            ],
            "image/png": "[encoded data removed]"
          },
          "metadata": {}
        }
      ]
    },
    {
      "cell_type": "markdown",
      "source": [
        "Of those who did not survive:\n",
        "\n",
        "\n",
        "*   357 didn't have any parent or child with them\n",
        "\n",
        "*   51 had 1 parent or child with them\n",
        "\n",
        "*   35 had 2 parents or children with them\n",
        "\n",
        "*   2 had 3 parents or children with them\n",
        "\n",
        "*   4 had 4 parents or children with them\n",
        "\n",
        "*   4 had 5 parents or children with them\n",
        "\n",
        "*   1 had 6 parents or children with them\n",
        "\n",
        "\n",
        "Of those who survived:\n",
        "\n",
        "*   211 didn't have any parent or child with them\n",
        "\n",
        "\n",
        "*  63 had 1 parent or child with them\n",
        "\n",
        "\n",
        "* 40 had 2 parents or children with them\n",
        "\n",
        "\n",
        "*   3 had 3 parents or children with them\n",
        "\n",
        "\n",
        "*   1 had 5 parents or children with them\n",
        "\n",
        "It is important to note that those who had 1, 2, or 3 parents or children with them outlasted those who didn't. For the rest, it did not seem to impact them greatly."
      ],
      "metadata": {
        "id": "i_-c0UJaSRmQ"
      }
    },
    {
      "cell_type": "code",
      "source": [
        "# class per gender\n",
        "\n",
        "print(dataset.groupby('Sex').Pclass.value_counts())\n",
        "\n",
        "fig, ax = plt.subplots(figsize = (10, 8))\n",
        "sns.countplot('Pclass', hue = 'Sex', data = dataset, ax = ax)"
      ],
      "metadata": {
        "colab": {
          "base_uri": "https://localhost:8080/",
          "height": 653
        },
        "id": "XjgmgNMxUJy-",
        "outputId": "7745b6ed-7a56-4f9b-c5cf-5124e362b569"
      },
      "execution_count": 122,
      "outputs": [
        {
          "output_type": "stream",
          "name": "stdout",
          "text": [
            "Sex  Pclass\n",
            "0    3         193\n",
            "     1         141\n",
            "     2          99\n",
            "1    3         392\n",
            "     1         173\n",
            "     2         151\n",
            "Name: Pclass, dtype: int64\n"
          ]
        },
        {
          "output_type": "execute_result",
          "data": {
            "text/plain": [
              "<matplotlib.axes._subplots.AxesSubplot at 0x7fa85d8a00d0>"
            ]
          },
          "metadata": {},
          "execution_count": 122
        },
        {
          "output_type": "display_data",
          "data": {
            "text/plain": [
              "<Figure size 720x576 with 1 Axes>"
            ],
            "image/png": "[encoded data removed]"
          },
          "metadata": {}
        }
      ]
    },
    {
      "cell_type": "markdown",
      "source": [
        "There were more males than females in all classes."
      ],
      "metadata": {
        "id": "_8_glbBBUVIw"
      }
    },
    {
      "cell_type": "code",
      "source": [
        "# class per point of embarkment\n",
        "\n",
        "\n",
        "print(dataset.groupby('Embarked').Pclass.value_counts())\n",
        "\n",
        "fig, ax = plt.subplots(figsize = (10, 8))\n",
        "sns.countplot('Pclass', hue = 'Embarked', data = dataset, ax = ax)"
      ],
      "metadata": {
        "colab": {
          "base_uri": "https://localhost:8080/",
          "height": 705
        },
        "id": "XchV-pSZUjAC",
        "outputId": "845eb741-c6ef-4343-d630-013a37662af9"
      },
      "execution_count": 123,
      "outputs": [
        {
          "output_type": "stream",
          "name": "stdout",
          "text": [
            "Embarked  Pclass\n",
            "0         1         139\n",
            "          3          84\n",
            "          2          28\n",
            "1         3          80\n",
            "          2           7\n",
            "          1           3\n",
            "2         3         421\n",
            "          2         215\n",
            "          1         172\n",
            "Name: Pclass, dtype: int64\n"
          ]
        },
        {
          "output_type": "execute_result",
          "data": {
            "text/plain": [
              "<matplotlib.axes._subplots.AxesSubplot at 0x7fa85d811310>"
            ]
          },
          "metadata": {},
          "execution_count": 123
        },
        {
          "output_type": "display_data",
          "data": {
            "text/plain": [
              "<Figure size 720x576 with 1 Axes>"
            ],
            "image/png": "[encoded data removed]"
          },
          "metadata": {}
        }
      ]
    },
    {
      "cell_type": "markdown",
      "source": [
        "In all classes, those who embarked at point S (Southampton) make up the majority, followed by those who embarked at C (Cherbourg) then finally by those who embarked at Q (Queenstown). The important thing to note in the in 3rd class is that the number of those who embarked at C and those who embarked at Q are almost the same. Indeed, majority of those who embarked at Q are in 3rd class."
      ],
      "metadata": {
        "id": "U5Rsx9jnVITr"
      }
    },
    {
      "cell_type": "code",
      "source": [
        "# splitting age into categories to make it easier to analyze\n",
        "conditions = [\n",
        "    ((dataset.Age >= 0) & (dataset.Age <= 10)),\n",
        "    ((dataset.Age >= 11) & (dataset.Age <= 20)),\n",
        "    ((dataset.Age >= 21) & (dataset.Age <= 30)),\n",
        "    ((dataset.Age >= 31) & (dataset.Age <= 40)),\n",
        "    ((dataset.Age >= 41) & (dataset.Age <= 50)),\n",
        "    ((dataset.Age >= 51) & (dataset.Age <= 60)),\n",
        "    ((dataset.Age >= 61) & (dataset.Age <= 70)),\n",
        "    ((dataset.Age >= 71) & (dataset.Age <= 80))\n",
        "]\n",
        "choices = ['1', '2', '3', '4', '5', '6', '7', '8']\n",
        "\n",
        "dataset['Age_range'] = np.select(conditions, choices)"
      ],
      "metadata": {
        "id": "6aWYcIC2Vncc"
      },
      "execution_count": 124,
      "outputs": []
    },
    {
      "cell_type": "code",
      "source": [
        "# plotting the age ranges in a pie chart\n",
        "dataset.Age_range.value_counts().plot(kind = 'pie', autopct = '%0.1f%%', figsize = [12, 10], \n",
        "                                      subplots = True)\n"
      ],
      "metadata": {
        "colab": {
          "base_uri": "https://localhost:8080/",
          "height": 610
        },
        "id": "CTy-gdbTWHwD",
        "outputId": "b4917c05-6edf-4bea-817e-59f15a36ea93"
      },
      "execution_count": 125,
      "outputs": [
        {
          "output_type": "execute_result",
          "data": {
            "text/plain": [
              "array([<matplotlib.axes._subplots.AxesSubplot object at 0x7fa85d7776d0>],\n",
              "      dtype=object)"
            ]
          },
          "metadata": {},
          "execution_count": 125
        },
        {
          "output_type": "display_data",
          "data": {
            "text/plain": [
              "<Figure size 864x720 with 1 Axes>"
            ],
            "image/png": "[encoded data removed]"
          },
          "metadata": {}
        }
      ]
    },
    {
      "cell_type": "markdown",
      "source": [
        "We see that age range 3 (20-30 year olds) make up the majority of the passengers while 70-80 year olds are the minority."
      ],
      "metadata": {
        "id": "r1rSW6yMWuTR"
      }
    },
    {
      "cell_type": "code",
      "source": [
        "# age distribution per gender\n",
        "\n",
        "print(dataset.groupby('Sex').Age_range.value_counts())\n",
        "\n",
        "fig, ax = plt.subplots(figsize = (10, 8))\n",
        "sns.countplot('Age_range', hue = 'Sex', data = dataset, ax = ax)"
      ],
      "metadata": {
        "colab": {
          "base_uri": "https://localhost:8080/",
          "height": 828
        },
        "id": "ChiLUFUQWxwN",
        "outputId": "211f2140-ca4b-455e-f8eb-b2c1381f88c1"
      },
      "execution_count": 128,
      "outputs": [
        {
          "output_type": "stream",
          "name": "stdout",
          "text": [
            "Sex  Age_range\n",
            "0    3            179\n",
            "     4             70\n",
            "     2             68\n",
            "     5             45\n",
            "     1             40\n",
            "     6             25\n",
            "     7              5\n",
            "     8              1\n",
            "1    3            310\n",
            "     4            130\n",
            "     2             89\n",
            "     5             81\n",
            "     1             45\n",
            "     6             37\n",
            "     7             20\n",
            "     8              4\n",
            "Name: Age_range, dtype: int64\n"
          ]
        },
        {
          "output_type": "execute_result",
          "data": {
            "text/plain": [
              "<matplotlib.axes._subplots.AxesSubplot at 0x7fa85d6e5290>"
            ]
          },
          "metadata": {},
          "execution_count": 128
        },
        {
          "output_type": "display_data",
          "data": {
            "text/plain": [
              "<Figure size 720x576 with 1 Axes>"
            ],
            "image/png": "[encoded data removed]"
          },
          "metadata": {}
        }
      ]
    },
    {
      "cell_type": "markdown",
      "source": [
        "From this diagram, we can see that males outnumber females in all age ranges. This makes sense since this dataset has more males than females. As expected, age range 20-30 outnumber the other age ranges."
      ],
      "metadata": {
        "id": "93NQL_xhaBWa"
      }
    },
    {
      "cell_type": "code",
      "source": [
        "# age distribution per class\n",
        "print(dataset.groupby('Pclass').Age_range.value_counts())\n",
        "\n",
        "fig, ax = plt.subplots(figsize = (10, 8))\n",
        "sns.countplot('Age_range', hue = 'Pclass', data = dataset, ax = ax)"
      ],
      "metadata": {
        "colab": {
          "base_uri": "https://localhost:8080/",
          "height": 949
        },
        "id": "pb4oc1uBaGI2",
        "outputId": "c710ce57-ff8c-47eb-bda5-6a1d0e3cc933"
      },
      "execution_count": 129,
      "outputs": [
        {
          "output_type": "stream",
          "name": "stdout",
          "text": [
            "Pclass  Age_range\n",
            "1       3             97\n",
            "        4             65\n",
            "        5             64\n",
            "        6             43\n",
            "        2             22\n",
            "        7             15\n",
            "        1              4\n",
            "        8              4\n",
            "2       3             98\n",
            "        4             49\n",
            "        2             32\n",
            "        5             29\n",
            "        1             22\n",
            "        6             14\n",
            "        7              6\n",
            "3       3            294\n",
            "        2            103\n",
            "        4             86\n",
            "        1             59\n",
            "        5             33\n",
            "        6              5\n",
            "        7              4\n",
            "        8              1\n",
            "Name: Age_range, dtype: int64\n"
          ]
        },
        {
          "output_type": "execute_result",
          "data": {
            "text/plain": [
              "<matplotlib.axes._subplots.AxesSubplot at 0x7fa85d4c83d0>"
            ]
          },
          "metadata": {},
          "execution_count": 129
        },
        {
          "output_type": "display_data",
          "data": {
            "text/plain": [
              "<Figure size 720x576 with 1 Axes>"
            ],
            "image/png": "[encoded data removed]"
          },
          "metadata": {}
        }
      ]
    },
    {
      "cell_type": "markdown",
      "source": [
        "As expected, majority are in 3rd class. However, from 40 to 80 years of age, we see that the passengers in 1st class outnumber those in 3rd class. This could be due to the assumption that older people tend to have more money than younger people which makes sense considering they have had a much longer time to save up for the cruise."
      ],
      "metadata": {
        "id": "llxNLNJDaURI"
      }
    },
    {
      "cell_type": "code",
      "source": [
        "# age distribution per point of embarkment\n",
        "print(dataset.groupby('Embarked').Age_range.value_counts())\n",
        "\n",
        "fig, ax = plt.subplots(figsize = (10, 8))\n",
        "sns.countplot('Age_range', hue = 'Embarked', data = dataset, ax = ax)"
      ],
      "metadata": {
        "colab": {
          "base_uri": "https://localhost:8080/",
          "height": 949
        },
        "id": "oJL2k7lNaeWp",
        "outputId": "d92d4540-bb17-4e3c-e330-387ac1d6332f"
      },
      "execution_count": 130,
      "outputs": [
        {
          "output_type": "stream",
          "name": "stdout",
          "text": [
            "Embarked  Age_range\n",
            "0         3            105\n",
            "          4             41\n",
            "          5             34\n",
            "          2             31\n",
            "          6             21\n",
            "          1             13\n",
            "          7              4\n",
            "          8              2\n",
            "1         3             57\n",
            "          4             13\n",
            "          2              9\n",
            "          1              5\n",
            "          7              4\n",
            "          5              1\n",
            "          6              1\n",
            "2         3            327\n",
            "          4            146\n",
            "          2            117\n",
            "          5             91\n",
            "          1             67\n",
            "          6             40\n",
            "          7             17\n",
            "          8              3\n",
            "Name: Age_range, dtype: int64\n"
          ]
        },
        {
          "output_type": "execute_result",
          "data": {
            "text/plain": [
              "<matplotlib.axes._subplots.AxesSubplot at 0x7fa85d47e490>"
            ]
          },
          "metadata": {},
          "execution_count": 130
        },
        {
          "output_type": "display_data",
          "data": {
            "text/plain": [
              "<Figure size 720x576 with 1 Axes>"
            ],
            "image/png": "[encoded data removed]"
          },
          "metadata": {}
        }
      ]
    },
    {
      "cell_type": "code",
      "source": [
        "# survival status per age\n",
        "print(dataset.groupby('Survived'). Age_range.value_counts())\n",
        "\n",
        "fig, ax = plt.subplots(figsize = (10, 8))\n",
        "sns.countplot('Age_range', hue = 'Survived', data = dataset, ax = ax)\n"
      ],
      "metadata": {
        "colab": {
          "base_uri": "https://localhost:8080/",
          "height": 830
        },
        "id": "gfLb9DQZbYhu",
        "outputId": "b1cf0f59-79e3-4956-a4d3-2b1bb126e4ef"
      },
      "execution_count": 131,
      "outputs": [
        {
          "output_type": "stream",
          "name": "stdout",
          "text": [
            "Survived  Age_range\n",
            "0.0       3            191\n",
            "          4             80\n",
            "          2             66\n",
            "          5             50\n",
            "          1             26\n",
            "          6             25\n",
            "          7             13\n",
            "          8              3\n",
            "1.0       3            119\n",
            "          4             65\n",
            "          2             44\n",
            "          1             37\n",
            "          5             32\n",
            "          6             17\n",
            "          7              3\n",
            "          8              1\n",
            "Name: Age_range, dtype: int64\n"
          ]
        },
        {
          "output_type": "execute_result",
          "data": {
            "text/plain": [
              "<matplotlib.axes._subplots.AxesSubplot at 0x7fa85d3b71d0>"
            ]
          },
          "metadata": {},
          "execution_count": 131
        },
        {
          "output_type": "display_data",
          "data": {
            "text/plain": [
              "<Figure size 720x576 with 1 Axes>"
            ],
            "image/png": "[encoded data removed]"
          },
          "metadata": {}
        }
      ]
    },
    {
      "cell_type": "markdown",
      "source": [
        "One thing that stands out about this diagram is that, of all the age ranges, age range 0 to 10 is the only one where the number of passengers who survived exceeds the number of those who did not. This is reasonable as children were prioritized over adults during the rescue. However, it is surprising that the same did not hold true for the elderly."
      ],
      "metadata": {
        "id": "IRyYKlgVbzcT"
      }
    },
    {
      "cell_type": "code",
      "source": [
        "# to create categories for our Fare column, let's look at its distribution again\n",
        "print(\"The max fare:\", round(dataset.Fare.max(), 2))\n",
        "dataset.Fare.plot(kind = 'hist', figsize = [8, 6])"
      ],
      "metadata": {
        "colab": {
          "base_uri": "https://localhost:8080/",
          "height": 409
        },
        "id": "Y3M1bDjIcJx9",
        "outputId": "4336b3ab-59a2-4a33-abac-dd6390cb529a"
      },
      "execution_count": 132,
      "outputs": [
        {
          "output_type": "stream",
          "name": "stdout",
          "text": [
            "The max fare: 512.33\n"
          ]
        },
        {
          "output_type": "execute_result",
          "data": {
            "text/plain": [
              "<matplotlib.axes._subplots.AxesSubplot at 0x7fa85d3af550>"
            ]
          },
          "metadata": {},
          "execution_count": 132
        },
        {
          "output_type": "display_data",
          "data": {
            "text/plain": [
              "<Figure size 576x432 with 1 Axes>"
            ],
            "image/png": "[encoded data removed]"
          },
          "metadata": {}
        }
      ]
    },
    {
      "cell_type": "code",
      "source": [
        "conditions = [\n",
        "    ((dataset.Fare >= 0) & (dataset.Fare <= 50)),\n",
        "    ((dataset.Fare >= 51) & (dataset.Fare <= 100)),\n",
        "    ((dataset.Fare >= 101) & (dataset.Fare <= 200)),\n",
        "    ((dataset.Fare >= 201) & (dataset.Fare <= 300)),\n",
        "    ((dataset.Fare >= 301) & (dataset.Fare <= 515))\n",
        "]\n",
        "choices = ['1', '2', '3', '4', '5']\n",
        "\n",
        "dataset['Fare_range'] = np.select(conditions, choices)"
      ],
      "metadata": {
        "id": "ya_qh5-IcSOV"
      },
      "execution_count": 133,
      "outputs": []
    },
    {
      "cell_type": "code",
      "source": [
        "# plotting the fare ranges in a bar chart\n",
        "dataset.Fare_range.value_counts().plot(kind = 'bar', figsize = [10, 8], rot = 0)\n"
      ],
      "metadata": {
        "colab": {
          "base_uri": "https://localhost:8080/",
          "height": 500
        },
        "id": "yoKq9I_ucco6",
        "outputId": "adbcb15f-5605-494f-b55b-e7b491dc936b"
      },
      "execution_count": 134,
      "outputs": [
        {
          "output_type": "execute_result",
          "data": {
            "text/plain": [
              "<matplotlib.axes._subplots.AxesSubplot at 0x7fa85d2a7090>"
            ]
          },
          "metadata": {},
          "execution_count": 134
        },
        {
          "output_type": "display_data",
          "data": {
            "text/plain": [
              "<Figure size 720x576 with 1 Axes>"
            ],
            "image/png": "[encoded data removed]"
          },
          "metadata": {}
        }
      ]
    },
    {
      "cell_type": "markdown",
      "source": [
        "As expected, the most occuring fare is between 0 to 50."
      ],
      "metadata": {
        "id": "5uttN6Gvcn2J"
      }
    },
    {
      "cell_type": "code",
      "source": [
        "# survival status per fare\n",
        "fig, ax = plt.subplots(figsize = (10, 8))\n",
        "sns.countplot('Fare_range', hue = 'Survived', data = dataset, ax = ax)"
      ],
      "metadata": {
        "colab": {
          "base_uri": "https://localhost:8080/",
          "height": 515
        },
        "id": "lSXpVeo9csnr",
        "outputId": "dbc29c30-7162-439b-c59f-8c9c12ffc3e0"
      },
      "execution_count": 136,
      "outputs": [
        {
          "output_type": "execute_result",
          "data": {
            "text/plain": [
              "<matplotlib.axes._subplots.AxesSubplot at 0x7fa85d234dd0>"
            ]
          },
          "metadata": {},
          "execution_count": 136
        },
        {
          "output_type": "display_data",
          "data": {
            "text/plain": [
              "<Figure size 720x576 with 1 Axes>"
            ],
            "image/png": "[encoded data removed]"
          },
          "metadata": {}
        }
      ]
    },
    {
      "cell_type": "markdown",
      "source": [
        "Those who paid 0-50 made up the majority of those who did not survive. In contrast, the rest had better chances of survival compared to these ones."
      ],
      "metadata": {
        "id": "y5e8pw2PdGD4"
      }
    },
    {
      "cell_type": "code",
      "source": [
        "# fare distribution per gender\n",
        "fig, ax = plt.subplots(figsize = (10, 8))\n",
        "sns.countplot('Fare_range', hue = 'Sex', data = dataset, ax = ax)"
      ],
      "metadata": {
        "colab": {
          "base_uri": "https://localhost:8080/",
          "height": 515
        },
        "id": "4rIw3V3IdOI-",
        "outputId": "35a5c515-9bcd-41ea-edfb-a2101bbf01e1"
      },
      "execution_count": 138,
      "outputs": [
        {
          "output_type": "execute_result",
          "data": {
            "text/plain": [
              "<matplotlib.axes._subplots.AxesSubplot at 0x7fa85d1a95d0>"
            ]
          },
          "metadata": {},
          "execution_count": 138
        },
        {
          "output_type": "display_data",
          "data": {
            "text/plain": [
              "<Figure size 720x576 with 1 Axes>"
            ],
            "image/png": "[encoded data removed]"
          },
          "metadata": {}
        }
      ]
    },
    {
      "cell_type": "markdown",
      "source": [
        "Males are the ones that paid more than females but this is probably because our dataset consists of more males than females. However, we see that when it comes to fare range 2 (51-100), males and females seem to have paid the same amount."
      ],
      "metadata": {
        "id": "5cf-ZYfwdjB8"
      }
    },
    {
      "cell_type": "code",
      "source": [
        "# fare distribution across age\n",
        "fig, ax = plt.subplots(figsize = (12, 10))\n",
        "sns.countplot('Fare_range', hue = 'Age_range', data = dataset, ax = ax)"
      ],
      "metadata": {
        "colab": {
          "base_uri": "https://localhost:8080/",
          "height": 623
        },
        "id": "KJny46Vidyfi",
        "outputId": "db99ec48-a612-4510-9651-09c617b6657e"
      },
      "execution_count": 140,
      "outputs": [
        {
          "output_type": "execute_result",
          "data": {
            "text/plain": [
              "<matplotlib.axes._subplots.AxesSubplot at 0x7fa85cfd3b50>"
            ]
          },
          "metadata": {},
          "execution_count": 140
        },
        {
          "output_type": "display_data",
          "data": {
            "text/plain": [
              "<Figure size 864x720 with 1 Axes>"
            ],
            "image/png": "[encoded data removed]"
          },
          "metadata": {}
        }
      ]
    },
    {
      "cell_type": "markdown",
      "source": [
        "Most age groups are in fare range 1 (0-50). However, we can observe that for fare range 3 (101-200), it is the 30-40 year olds who are mostly the ones paying this fare and not the 20-30 year olds like with the other fare ranges. The same can be said for fare range 5 (301-515)."
      ],
      "metadata": {
        "id": "DaHEQupvd87n"
      }
    },
    {
      "cell_type": "code",
      "source": [
        "# relationship between fare and point of embarkment\n",
        "fig, ax = plt.subplots(figsize = (10, 8))\n",
        "sns.countplot('Embarked', hue = 'Fare_range', data = dataset, ax = ax)"
      ],
      "metadata": {
        "colab": {
          "base_uri": "https://localhost:8080/",
          "height": 514
        },
        "id": "HCm2rycmetdj",
        "outputId": "05fff0db-6354-41aa-e8a8-e42c7ecdafa0"
      },
      "execution_count": 141,
      "outputs": [
        {
          "output_type": "execute_result",
          "data": {
            "text/plain": [
              "<matplotlib.axes._subplots.AxesSubplot at 0x7fa85cf84710>"
            ]
          },
          "metadata": {},
          "execution_count": 141
        },
        {
          "output_type": "display_data",
          "data": {
            "text/plain": [
              "<Figure size 720x576 with 1 Axes>"
            ],
            "image/png": "[encoded data removed]"
          },
          "metadata": {}
        }
      ]
    },
    {
      "cell_type": "markdown",
      "source": [
        "As expected, point S has the most records of fares with majority of them being in fare range 1 (0-50)."
      ],
      "metadata": {
        "id": "f1GXnm4Ze6h-"
      }
    },
    {
      "cell_type": "code",
      "source": [
        "# fare distribution per class\n",
        "fig, ax = plt.subplots(figsize = (10, 8))\n",
        "sns.countplot('Pclass', hue = 'Fare_range', data = dataset, ax = ax)"
      ],
      "metadata": {
        "colab": {
          "base_uri": "https://localhost:8080/",
          "height": 517
        },
        "id": "9nkWuaeze6Co",
        "outputId": "ad10084e-0d32-4fd5-e1dc-b3631314203e"
      },
      "execution_count": 142,
      "outputs": [
        {
          "output_type": "execute_result",
          "data": {
            "text/plain": [
              "<matplotlib.axes._subplots.AxesSubplot at 0x7fa85d9637d0>"
            ]
          },
          "metadata": {},
          "execution_count": 142
        },
        {
          "output_type": "display_data",
          "data": {
            "text/plain": [
              "<Figure size 720x576 with 1 Axes>"
            ],
            "image/png": "[encoded data removed]"
          },
          "metadata": {}
        }
      ]
    },
    {
      "cell_type": "markdown",
      "source": [
        "As displayed, it makes logical sense that 1st class would have a more diverse set of fares than 2nd or 3rd class since it is more costly to be in 1st class than the other classes."
      ],
      "metadata": {
        "id": "7c3nPeA8fJ8s"
      }
    },
    {
      "cell_type": "code",
      "source": [
        "# fare per parent-child\n",
        "fig, ax = plt.subplots(figsize = (10, 8))\n",
        "sns.countplot('Fare_range', hue = 'Parch', data = dataset, ax = ax)"
      ],
      "metadata": {
        "colab": {
          "base_uri": "https://localhost:8080/",
          "height": 515
        },
        "id": "iRih52KSfJJq",
        "outputId": "a20c753c-0363-4720-df6c-d7eec64ca3a3"
      },
      "execution_count": 143,
      "outputs": [
        {
          "output_type": "execute_result",
          "data": {
            "text/plain": [
              "<matplotlib.axes._subplots.AxesSubplot at 0x7fa85da6e550>"
            ]
          },
          "metadata": {},
          "execution_count": 143
        },
        {
          "output_type": "display_data",
          "data": {
            "text/plain": [
              "<Figure size 720x576 with 1 Axes>"
            ],
            "image/png": "[encoded data removed]"
          },
          "metadata": {}
        }
      ]
    },
    {
      "cell_type": "code",
      "source": [
        "# fare per siblings/spouses\n",
        "fig, ax = plt.subplots(figsize = (10, 8))\n",
        "sns.countplot('Fare_range', hue = 'SibSp', data = dataset, ax = ax)"
      ],
      "metadata": {
        "colab": {
          "base_uri": "https://localhost:8080/",
          "height": 515
        },
        "id": "m5m0ybIofhnB",
        "outputId": "9da1fe1a-ecd3-4fbf-c917-e765874a3391"
      },
      "execution_count": 144,
      "outputs": [
        {
          "output_type": "execute_result",
          "data": {
            "text/plain": [
              "<matplotlib.axes._subplots.AxesSubplot at 0x7fa85cdfc210>"
            ]
          },
          "metadata": {},
          "execution_count": 144
        },
        {
          "output_type": "display_data",
          "data": {
            "text/plain": [
              "<Figure size 720x576 with 1 Axes>"
            ],
            "image/png": "[encoded data removed]"
          },
          "metadata": {}
        }
      ]
    },
    {
      "cell_type": "markdown",
      "source": [
        "As for the Parch and Sibsp outputs, there is nothing unusual."
      ],
      "metadata": {
        "id": "W4lM26d1fmub"
      }
    },
    {
      "cell_type": "markdown",
      "source": [
        "# **Checking for Multicollinearity**"
      ],
      "metadata": {
        "id": "ebA_RKUhf1jd"
      }
    },
    {
      "cell_type": "code",
      "source": [
        "# Finding the relations between the variables.\n",
        "# Getting the correlation matrix\n",
        "corr_matrix = dataset.corr()\n",
        "corr_matrix.describe()\n"
      ],
      "metadata": {
        "colab": {
          "base_uri": "https://localhost:8080/",
          "height": 300
        },
        "id": "W0oKQsm_gdz2",
        "outputId": "b6d7e3f2-d164-4ca9-e353-a4ecd8fbfa71"
      },
      "execution_count": 146,
      "outputs": [
        {
          "output_type": "execute_result",
          "data": {
            "text/plain": [
              "         Pclass       Sex       Age     SibSp     Parch      Fare  Embarked\n",
              "count  7.000000  7.000000  7.000000  7.000000  7.000000  7.000000  7.000000\n",
              "mean   0.070383  0.113534  0.061293  0.186830  0.185561  0.075493  0.155917\n",
              "std    0.497091  0.411289  0.451285  0.400229  0.404778  0.492378  0.400212\n",
              "min   -0.558443 -0.205088 -0.377545 -0.218794 -0.205088 -0.558443 -0.252729\n",
              "25%   -0.168225 -0.133376 -0.176006 -0.014292 -0.046061 -0.212426 -0.014864\n",
              "50%    0.069299  0.065820 -0.079008  0.069299  0.049280  0.139492  0.066044\n",
              "75%    0.159136  0.100378  0.118808  0.242945  0.273430  0.186129  0.153915\n",
              "max    1.000000  1.000000  1.000000  1.000000  1.000000  1.000000  1.000000"
            ],
            "text/html": [
              "\n",
              "  <div id=\"df-569988aa-1058-43ec-bb10-a5083fe71049\">\n",
              "    <div class=\"colab-df-container\">\n",
              "      <div>\n",
              "<style scoped>\n",
              "    .dataframe tbody tr th:only-of-type {\n",
              "        vertical-align: middle;\n",
              "    }\n",
              "\n",
              "    .dataframe tbody tr th {\n",
              "        vertical-align: top;\n",
              "    }\n",
              "\n",
              "    .dataframe thead th {\n",
              "        text-align: right;\n",
              "    }\n",
              "</style>\n",
              "<table border=\"1\" class=\"dataframe\">\n",
              "  <thead>\n",
              "    <tr style=\"text-align: right;\">\n",
              "      <th></th>\n",
              "      <th>Pclass</th>\n",
              "      <th>Sex</th>\n",
              "      <th>Age</th>\n",
              "      <th>SibSp</th>\n",
              "      <th>Parch</th>\n",
              "      <th>Fare</th>\n",
              "      <th>Embarked</th>\n",
              "    </tr>\n",
              "  </thead>\n",
              "  <tbody>\n",
              "    <tr>\n",
              "      <th>count</th>\n",
              "      <td>7.000000</td>\n",
              "      <td>7.000000</td>\n",
              "      <td>7.000000</td>\n",
              "      <td>7.000000</td>\n",
              "      <td>7.000000</td>\n",
              "      <td>7.000000</td>\n",
              "      <td>7.000000</td>\n",
              "    </tr>\n",
              "    <tr>\n",
              "      <th>mean</th>\n",
              "      <td>0.070383</td>\n",
              "      <td>0.113534</td>\n",
              "      <td>0.061293</td>\n",
              "      <td>0.186830</td>\n",
              "      <td>0.185561</td>\n",
              "      <td>0.075493</td>\n",
              "      <td>0.155917</td>\n",
              "    </tr>\n",
              "    <tr>\n",
              "      <th>std</th>\n",
              "      <td>0.497091</td>\n",
              "      <td>0.411289</td>\n",
              "      <td>0.451285</td>\n",
              "      <td>0.400229</td>\n",
              "      <td>0.404778</td>\n",
              "      <td>0.492378</td>\n",
              "      <td>0.400212</td>\n",
              "    </tr>\n",
              "    <tr>\n",
              "      <th>min</th>\n",
              "      <td>-0.558443</td>\n",
              "      <td>-0.205088</td>\n",
              "      <td>-0.377545</td>\n",
              "      <td>-0.218794</td>\n",
              "      <td>-0.205088</td>\n",
              "      <td>-0.558443</td>\n",
              "      <td>-0.252729</td>\n",
              "    </tr>\n",
              "    <tr>\n",
              "      <th>25%</th>\n",
              "      <td>-0.168225</td>\n",
              "      <td>-0.133376</td>\n",
              "      <td>-0.176006</td>\n",
              "      <td>-0.014292</td>\n",
              "      <td>-0.046061</td>\n",
              "      <td>-0.212426</td>\n",
              "      <td>-0.014864</td>\n",
              "    </tr>\n",
              "    <tr>\n",
              "      <th>50%</th>\n",
              "      <td>0.069299</td>\n",
              "      <td>0.065820</td>\n",
              "      <td>-0.079008</td>\n",
              "      <td>0.069299</td>\n",
              "      <td>0.049280</td>\n",
              "      <td>0.139492</td>\n",
              "      <td>0.066044</td>\n",
              "    </tr>\n",
              "    <tr>\n",
              "      <th>75%</th>\n",
              "      <td>0.159136</td>\n",
              "      <td>0.100378</td>\n",
              "      <td>0.118808</td>\n",
              "      <td>0.242945</td>\n",
              "      <td>0.273430</td>\n",
              "      <td>0.186129</td>\n",
              "      <td>0.153915</td>\n",
              "    </tr>\n",
              "    <tr>\n",
              "      <th>max</th>\n",
              "      <td>1.000000</td>\n",
              "      <td>1.000000</td>\n",
              "      <td>1.000000</td>\n",
              "      <td>1.000000</td>\n",
              "      <td>1.000000</td>\n",
              "      <td>1.000000</td>\n",
              "      <td>1.000000</td>\n",
              "    </tr>\n",
              "  </tbody>\n",
              "</table>\n",
              "</div>\n",
              "      <button class=\"colab-df-convert\" onclick=\"convertToInteractive('df-569988aa-1058-43ec-bb10-a5083fe71049')\"\n",
              "              title=\"Convert this dataframe to an interactive table.\"\n",
              "              style=\"display:none;\">\n",
              "        \n",
              "  <svg xmlns=\"http://www.w3.org/2000/svg\" height=\"24px\"viewBox=\"0 0 24 24\"\n",
              "       width=\"24px\">\n",
              "    <path d=\"M0 0h24v24H0V0z\" fill=\"none\"/>\n",
              "    <path d=\"M18.56 5.44l.94 2.06.94-2.06 2.06-.94-2.06-.94-.94-2.06-.94 2.06-2.06.94zm-11 1L8.5 8.5l.94-2.06 2.06-.94-2.06-.94L8.5 2.5l-.94 2.06-2.06.94zm10 10l.94 2.06.94-2.06 2.06-.94-2.06-.94-.94-2.06-.94 2.06-2.06.94z\"/><path d=\"M17.41 7.96l-1.37-1.37c-.4-.4-.92-.59-1.43-.59-.52 0-1.04.2-1.43.59L10.3 9.45l-7.72 7.72c-.78.78-.78 2.05 0 2.83L4 21.41c.39.39.9.59 1.41.59.51 0 1.02-.2 1.41-.59l7.78-7.78 2.81-2.81c.8-.78.8-2.07 0-2.86zM5.41 20L4 18.59l7.72-7.72 1.47 1.35L5.41 20z\"/>\n",
              "  </svg>\n",
              "      </button>\n",
              "      \n",
              "  <style>\n",
              "    .colab-df-container {\n",
              "      display:flex;\n",
              "      flex-wrap:wrap;\n",
              "      gap: 12px;\n",
              "    }\n",
              "\n",
              "    .colab-df-convert {\n",
              "      background-color: #E8F0FE;\n",
              "      border: none;\n",
              "      border-radius: 50%;\n",
              "      cursor: pointer;\n",
              "      display: none;\n",
              "      fill: #1967D2;\n",
              "      height: 32px;\n",
              "      padding: 0 0 0 0;\n",
              "      width: 32px;\n",
              "    }\n",
              "\n",
              "    .colab-df-convert:hover {\n",
              "      background-color: #E2EBFA;\n",
              "      box-shadow: 0px 1px 2px rgba(60, 64, 67, 0.3), 0px 1px 3px 1px rgba(60, 64, 67, 0.15);\n",
              "      fill: #174EA6;\n",
              "    }\n",
              "\n",
              "    [theme=dark] .colab-df-convert {\n",
              "      background-color: #3B4455;\n",
              "      fill: #D2E3FC;\n",
              "    }\n",
              "\n",
              "    [theme=dark] .colab-df-convert:hover {\n",
              "      background-color: #434B5C;\n",
              "      box-shadow: 0px 1px 3px 1px rgba(0, 0, 0, 0.15);\n",
              "      filter: drop-shadow(0px 1px 2px rgba(0, 0, 0, 0.3));\n",
              "      fill: #FFFFFF;\n",
              "    }\n",
              "  </style>\n",
              "\n",
              "      <script>\n",
              "        const buttonEl =\n",
              "          document.querySelector('#df-569988aa-1058-43ec-bb10-a5083fe71049 button.colab-df-convert');\n",
              "        buttonEl.style.display =\n",
              "          google.colab.kernel.accessAllowed ? 'block' : 'none';\n",
              "\n",
              "        async function convertToInteractive(key) {\n",
              "          const element = document.querySelector('#df-569988aa-1058-43ec-bb10-a5083fe71049');\n",
              "          const dataTable =\n",
              "            await google.colab.kernel.invokeFunction('convertToInteractive',\n",
              "                                                     [key], {});\n",
              "          if (!dataTable) return;\n",
              "\n",
              "          const docLinkHtml = 'Like what you see? Visit the ' +\n",
              "            '<a target=\"_blank\" href=https://colab.research.google.com/notebooks/data_table.ipynb>data table notebook</a>'\n",
              "            + ' to learn more about interactive tables.';\n",
              "          element.innerHTML = '';\n",
              "          dataTable['output_type'] = 'display_data';\n",
              "          await google.colab.output.renderOutput(dataTable, element);\n",
              "          const docLink = document.createElement('div');\n",
              "          docLink.innerHTML = docLinkHtml;\n",
              "          element.appendChild(docLink);\n",
              "        }\n",
              "      </script>\n",
              "    </div>\n",
              "  </div>\n",
              "  "
            ]
          },
          "metadata": {},
          "execution_count": 146
        }
      ]
    },
    {
      "cell_type": "code",
      "source": [
        "# checking the VIF\n",
        "vif = pd.DataFrame(np.linalg.inv(corr.values), index = corr.index, columns = corr.columns)\n",
        "\n",
        "# using a heatmap to display the results\n",
        "plt.figure(figsize = (15, 10))\n",
        "sns.heatmap(vif, annot = True)"
      ],
      "metadata": {
        "colab": {
          "base_uri": "https://localhost:8080/",
          "height": 609
        },
        "id": "gc8_-zX7f7hg",
        "outputId": "93ba66bf-43be-430a-e13c-306b088c8f34"
      },
      "execution_count": 147,
      "outputs": [
        {
          "output_type": "execute_result",
          "data": {
            "text/plain": [
              "<matplotlib.axes._subplots.AxesSubplot at 0x7fa85a295fd0>"
            ]
          },
          "metadata": {},
          "execution_count": 147
        },
        {
          "output_type": "display_data",
          "data": {
            "text/plain": [
              "<Figure size 1080x720 with 2 Axes>"
            ],
            "image/png": "[encoded data removed]"
          },
          "metadata": {}
        }
      ]
    },
    {
      "cell_type": "markdown",
      "source": [
        "All our variables have Variance Inflation Factor (VIF) scores which are nowhere near 5, which would have made them really problematic. So we see that there is no need of dropping any columns."
      ],
      "metadata": {
        "id": "KZQXsa5SgJuc"
      }
    },
    {
      "cell_type": "markdown",
      "source": [
        "# **5. MODELING**"
      ],
      "metadata": {
        "id": "YjD-NItNhGlW"
      }
    },
    {
      "cell_type": "markdown",
      "source": [
        "# KNN (K-Nearest Neighbor)"
      ],
      "metadata": {
        "id": "fR_jzD3UhufL"
      }
    },
    {
      "cell_type": "markdown",
      "source": [
        "For modelling, we will use our 'train' dataset since the 'test' one does not have any values for Survived."
      ],
      "metadata": {
        "id": "PEU9KAiPhlp-"
      }
    },
    {
      "cell_type": "code",
      "source": [
        "# splitting our data into attributes and label\n",
        "X = train.drop(columns = ['Survived']).values\n",
        "y = train['Survived'].values\n",
        "print(X.shape)\n",
        "print(y.shape)"
      ],
      "metadata": {
        "colab": {
          "base_uri": "https://localhost:8080/"
        },
        "id": "-yJshcjGhpge",
        "outputId": "f51fb552-16c7-4ada-dc0e-1754e9296dbf"
      },
      "execution_count": 148,
      "outputs": [
        {
          "output_type": "stream",
          "name": "stdout",
          "text": [
            "(772, 7)\n",
            "(772,)\n"
          ]
        }
      ]
    },
    {
      "cell_type": "markdown",
      "source": [
        "# a. KNN without splitting"
      ],
      "metadata": {
        "id": "XO5p0PHQh5kO"
      }
    },
    {
      "cell_type": "code",
      "source": [
        "from sklearn.neighbors import KNeighborsClassifier\n",
        "\n",
        "# fitting the classifier\n",
        "classifier = KNeighborsClassifier(n_neighbors = 5)\n",
        "classifier.fit(X, y)\n",
        "\n",
        "# making predictions\n",
        "y_pred = classifier.predict(X)\n",
        "\n",
        "# evaluating the classifier\n",
        "from sklearn.metrics import accuracy_score, classification_report, confusion_matrix\n",
        "print(\"Accuracy score:\",accuracy_score(y, y_pred))\n",
        "\n",
        "print(confusion_matrix(y, y_pred))\n",
        "print(classification_report(y, y_pred))"
      ],
      "metadata": {
        "colab": {
          "base_uri": "https://localhost:8080/"
        },
        "id": "ffSmr0XVh2xq",
        "outputId": "9e0daba2-9455-47b6-c4f4-18b263ab50e8"
      },
      "execution_count": 149,
      "outputs": [
        {
          "output_type": "stream",
          "name": "stdout",
          "text": [
            "Accuracy score: 0.788860103626943\n",
            "[[388  66]\n",
            " [ 97 221]]\n",
            "              precision    recall  f1-score   support\n",
            "\n",
            "           0       0.80      0.85      0.83       454\n",
            "           1       0.77      0.69      0.73       318\n",
            "\n",
            "    accuracy                           0.79       772\n",
            "   macro avg       0.79      0.77      0.78       772\n",
            "weighted avg       0.79      0.79      0.79       772\n",
            "\n"
          ]
        }
      ]
    },
    {
      "cell_type": "markdown",
      "source": [
        "We can see that the accuracy of our model without splitting the data into train and test sets is 78.88%."
      ],
      "metadata": {
        "id": "nl6ez_UOiQpw"
      }
    },
    {
      "cell_type": "markdown",
      "source": [
        "# b. KNN with train-test splits"
      ],
      "metadata": {
        "id": "ciyCXMWria34"
      }
    },
    {
      "cell_type": "code",
      "source": [
        "# We will use a loop to loop through a list of possible test cases \n",
        "# to determine which one provides the best accuracy.\n",
        "my_tests = [0.1, 0.2, 0.3, 0.4, 0.5]\n",
        "\n",
        "from sklearn.model_selection import train_test_split as tts\n",
        "from sklearn.preprocessing import StandardScaler\n",
        "\n",
        "for test in my_tests:\n",
        "    X_train, X_test, y_train, y_test = tts(X, y, test_size = test, random_state = 12)\n",
        "    \n",
        "# scaling the training data\n",
        "    scaler = StandardScaler()\n",
        "    scaler.fit(X_train)\n",
        "    \n",
        "    X_train = scaler.transform(X_train)\n",
        "    X_test = scaler.transform(X_test)\n",
        "    \n",
        "# fitting to classifier\n",
        "    classifier = KNeighborsClassifier(n_neighbors = 5)\n",
        "    classifier.fit(X_train, y_train)\n",
        "    \n",
        "# making predictions\n",
        "    y_pred = classifier.predict(X_test)\n",
        "\n",
        "# evaluating the algorithm\n",
        "    print(\"Test size {} has Accuracy score:\".format(test),accuracy_score(y_test, y_pred))"
      ],
      "metadata": {
        "colab": {
          "base_uri": "https://localhost:8080/"
        },
        "id": "8RyHtJ__ihAL",
        "outputId": "1d070cea-4085-4367-8463-8dc49c5ef95a"
      },
      "execution_count": 151,
      "outputs": [
        {
          "output_type": "stream",
          "name": "stdout",
          "text": [
            "Test size 0.1 has Accuracy score: 0.7948717948717948\n",
            "Test size 0.2 has Accuracy score: 0.7870967741935484\n",
            "Test size 0.3 has Accuracy score: 0.771551724137931\n",
            "Test size 0.4 has Accuracy score: 0.7961165048543689\n",
            "Test size 0.5 has Accuracy score: 0.7979274611398963\n"
          ]
        }
      ]
    },
    {
      "cell_type": "markdown",
      "source": [
        "From this we can conclude the following:\n",
        " \n",
        "\n",
        "*  Test size 0.1 (train size 0.9) has about 79.4% accuracy\n",
        "\n",
        "* Test size 0.2 (train size 0.8) has about 78.7% accuracy\n",
        "\n",
        "*  The test size 0.3 (train size 0.7) has about 77.1% accuracy\n",
        "\n",
        "* Test size 0.4 (train size 0.6) has about 79.6% accuracy\n",
        "\n",
        "* Test size 0.5 (train size 0.5) has about 79.7% accuracy\n",
        "\n",
        "\n",
        "It does not seem logical to use a 50-50 train-test split so we will use the next best one, which is the 60-40 split. We can see that it is more accurate than carrying out the predictions without splitting the dataset into training and testing sets."
      ],
      "metadata": {
        "id": "pTmHI4tqjopc"
      }
    },
    {
      "cell_type": "markdown",
      "source": [
        "# c. KNN Hyperparameter Tuning"
      ],
      "metadata": {
        "id": "k0eiGd2Vkbmu"
      }
    },
    {
      "cell_type": "markdown",
      "source": [
        "# i. 90-10 Split"
      ],
      "metadata": {
        "id": "WSaAIqlDkgt7"
      }
    },
    {
      "cell_type": "code",
      "source": [
        "# dictionary to store accuracy scores\n",
        "acc_results = {}\n",
        "\n",
        "# selecting 90-10 train-test split\n",
        "X_train, X_test, y_train, y_test = tts(X, y, test_size = 0.1, random_state = 12)\n",
        "\n",
        "neighbor_range = np.arange(1, 51)\n",
        "\n",
        "for nei in neighbor_range: \n",
        "    classifier = KNeighborsClassifier(n_neighbors = nei)\n",
        "    classifier.fit(X_train, y_train)\n",
        "    y_pred = classifier.predict(X_test)\n",
        "    accuracy = round(accuracy_score(y_test, y_pred), 2)\n",
        "    acc_results[nei] = accuracy\n",
        "\n",
        "# getting the most accurate k value\n",
        "key_list = list(acc_results.keys())\n",
        "value_list = list(acc_results.values())\n",
        "max_acc = pd.Series(acc_results).max()\n",
        "max_k = key_list[value_list.index(pd.Series(acc_results).max())]\n",
        "print(\"The k value of {} for this train-test split resulted in an accuracy of {}\".format(max_k,\n",
        "                                                                                       (max_acc * 100)))"
      ],
      "metadata": {
        "colab": {
          "base_uri": "https://localhost:8080/"
        },
        "id": "CL_EWZfFjh-k",
        "outputId": "eee15486-60b3-48c2-925a-aeb8f0f37506"
      },
      "execution_count": 153,
      "outputs": [
        {
          "output_type": "stream",
          "name": "stdout",
          "text": [
            "The k value of 6 for this train-test split resulted in an accuracy of 74.0\n"
          ]
        }
      ]
    },
    {
      "cell_type": "code",
      "source": [
        "# optimizing by normalizing\n",
        "from sklearn.preprocessing import Normalizer\n",
        "normal = Normalizer()\n",
        "X_train = normal.fit_transform(X_train)\n",
        "X_test = normal.transform(X_test)\n",
        "\n",
        "from sklearn.model_selection import KFold, RandomizedSearchCV\n",
        "\n",
        "knn = KNeighborsClassifier()\n",
        "\n",
        "params = {'n_neighbors' : neighbor_range,\n",
        "         'weights' : ['uniform', 'distance'],\n",
        "         'metric' : ['manhattan', 'euclidean', 'minkowski']}\n",
        "\n",
        "kfolds = KFold(n_splits = 20)\n",
        "rscv = RandomizedSearchCV(knn, params, random_state = 12)\n",
        "rscv.fit(X_train, y_train)\n",
        "print(\"The best parameters are:\", rscv.best_params_)"
      ],
      "metadata": {
        "colab": {
          "base_uri": "https://localhost:8080/"
        },
        "id": "W8g-69Okk9nE",
        "outputId": "4e495dad-6078-4524-b3be-439e43d97820"
      },
      "execution_count": 155,
      "outputs": [
        {
          "output_type": "stream",
          "name": "stdout",
          "text": [
            "The best parameters are: {'weights': 'distance', 'n_neighbors': 34, 'metric': 'manhattan'}\n"
          ]
        }
      ]
    },
    {
      "cell_type": "code",
      "source": [
        "# now implementing using the recommended best parameters\n",
        "classifier = KNeighborsClassifier(n_neighbors = 34, weights = 'distance', metric = 'manhattan')\n",
        "classifier.fit(X_train, y_train)\n",
        "\n",
        "# making predictions\n",
        "y_pred = classifier.predict(X_test)\n",
        "\n",
        "# evaluating the algorithm\n",
        "print(\"The Accuracy score is:\", accuracy_score(y_test, y_pred))\n",
        "\n",
        "print(confusion_matrix(y_test, y_pred))\n",
        "print(classification_report(y_test, y_pred))"
      ],
      "metadata": {
        "colab": {
          "base_uri": "https://localhost:8080/"
        },
        "id": "wpffPZLJlcG2",
        "outputId": "d3b6be4a-25ad-49af-9e37-87ef41e7e0e7"
      },
      "execution_count": 157,
      "outputs": [
        {
          "output_type": "stream",
          "name": "stdout",
          "text": [
            "The Accuracy score is: 0.7051282051282052\n",
            "[[35 12]\n",
            " [11 20]]\n",
            "              precision    recall  f1-score   support\n",
            "\n",
            "           0       0.76      0.74      0.75        47\n",
            "           1       0.62      0.65      0.63        31\n",
            "\n",
            "    accuracy                           0.71        78\n",
            "   macro avg       0.69      0.69      0.69        78\n",
            "weighted avg       0.71      0.71      0.71        78\n",
            "\n"
          ]
        }
      ]
    },
    {
      "cell_type": "markdown",
      "source": [
        "Before playing around with the parameters, the accuracy score for the 90-10 split was 79.4%.\n",
        "\n",
        "Playing around with the best value of k resulted in an accuracy score of 74,0% for k = 6.\n",
        "\n",
        "A randomized search returned best parameters 'distance' for weights, 34 for n_neighbors, and 'manhattan' for metrics and resulted in an accuracy score of 70.5%.\n",
        "\n",
        "We see that hyperparameter tuning has actually brought down the accuracy score."
      ],
      "metadata": {
        "id": "eVC-6BhllvS4"
      }
    },
    {
      "cell_type": "markdown",
      "source": [
        "# ii. 80-20 Split"
      ],
      "metadata": {
        "id": "eLgSDeEtmdkZ"
      }
    },
    {
      "cell_type": "code",
      "source": [
        "# dictionary to store accuracy scores\n",
        "acc_results = {}\n",
        "\n",
        "# selecting 80-20 train-test split\n",
        "X_train, X_test, y_train, y_test = tts(X, y, test_size = 0.2, random_state = 12)\n",
        "\n",
        "neighbor_range = np.arange(1, 51)\n",
        "\n",
        "for nei in neighbor_range: \n",
        "    classifier = KNeighborsClassifier(n_neighbors = nei)\n",
        "    classifier.fit(X_train, y_train)\n",
        "    y_pred = classifier.predict(X_test)\n",
        "    accuracy = round(accuracy_score(y_test, y_pred), 2)\n",
        "    acc_results[nei] = accuracy\n",
        "\n",
        "# getting the most accurate k value\n",
        "key_list = list(acc_results.keys())\n",
        "value_list = list(acc_results.values())\n",
        "max_acc = pd.Series(acc_results).max()\n",
        "max_k = key_list[value_list.index(pd.Series(acc_results).max())]\n",
        "print(\"The k value of {} for this train-test split resulted in an accuracy of {}\".format(max_k,\n",
        "                                                                                       (max_acc * 100)))"
      ],
      "metadata": {
        "colab": {
          "base_uri": "https://localhost:8080/"
        },
        "id": "0LC0J16olu-v",
        "outputId": "fb39a4ec-b4ba-4d14-e6c1-bbc9b72d896b"
      },
      "execution_count": 158,
      "outputs": [
        {
          "output_type": "stream",
          "name": "stdout",
          "text": [
            "The k value of 13 for this train-test split resulted in an accuracy of 72.0\n"
          ]
        }
      ]
    },
    {
      "cell_type": "code",
      "source": [
        "# optimizing by normalizing\n",
        "from sklearn.preprocessing import Normalizer\n",
        "normal = Normalizer()\n",
        "X_train = normal.fit_transform(X_train)\n",
        "X_test = normal.transform(X_test)\n",
        "\n",
        "from sklearn.model_selection import KFold, RandomizedSearchCV\n",
        "\n",
        "knn = KNeighborsClassifier()\n",
        "\n",
        "params = {'n_neighbors' : neighbor_range,\n",
        "         'weights' : ['uniform', 'distance'],\n",
        "         'metric' : ['manhattan', 'euclidean', 'minkowski']}\n",
        "\n",
        "kfolds = KFold(n_splits = 20)\n",
        "rscv = RandomizedSearchCV(knn, params, random_state = 12)\n",
        "rscv.fit(X_train, y_train)\n",
        "print(\"The best parameters are:\", rscv.best_params_)"
      ],
      "metadata": {
        "colab": {
          "base_uri": "https://localhost:8080/"
        },
        "id": "1n16M4WgnEEE",
        "outputId": "48c5f954-e852-4919-dacd-2fcc1c2c7b4a"
      },
      "execution_count": 159,
      "outputs": [
        {
          "output_type": "stream",
          "name": "stdout",
          "text": [
            "The best parameters are: {'weights': 'distance', 'n_neighbors': 39, 'metric': 'manhattan'}\n"
          ]
        }
      ]
    },
    {
      "cell_type": "code",
      "source": [
        "# now implementing using the recommended best parameters\n",
        "classifier = KNeighborsClassifier(n_neighbors = 39, weights = 'distance', metric = 'manhattan')\n",
        "classifier.fit(X_train, y_train)\n",
        "\n",
        "# making predictions\n",
        "y_pred = classifier.predict(X_test)\n",
        "\n",
        "# evaluating the algorithm\n",
        "print(\"The Accuracy score is:\", accuracy_score(y_test, y_pred))\n",
        "\n",
        "print(confusion_matrix(y_test, y_pred))\n",
        "print(classification_report(y_test, y_pred))"
      ],
      "metadata": {
        "colab": {
          "base_uri": "https://localhost:8080/"
        },
        "id": "zHv1BcqYnTRS",
        "outputId": "ab596e1c-b239-44e6-b73f-6c6a147201c0"
      },
      "execution_count": 160,
      "outputs": [
        {
          "output_type": "stream",
          "name": "stdout",
          "text": [
            "The Accuracy score is: 0.6580645161290323\n",
            "[[66 30]\n",
            " [23 36]]\n",
            "              precision    recall  f1-score   support\n",
            "\n",
            "           0       0.74      0.69      0.71        96\n",
            "           1       0.55      0.61      0.58        59\n",
            "\n",
            "    accuracy                           0.66       155\n",
            "   macro avg       0.64      0.65      0.64       155\n",
            "weighted avg       0.67      0.66      0.66       155\n",
            "\n"
          ]
        }
      ]
    },
    {
      "cell_type": "markdown",
      "source": [
        "Before playing around with the parameters, the accuracy score for the 80-20 split was 78.7%.\n",
        "\n",
        "Playing around with the best value of k resulted in an accuracy score of 72.0% for k = 13.\n",
        "\n",
        "A randomized search returned best parameters 'distance' for weights, 39 for n_neighbors, and 'manhattan' for metrics and resulted in an accuracy score of 65.8%.\n",
        "\n",
        "We see that hyperparameter tuning has actually brought down the accuracy score."
      ],
      "metadata": {
        "id": "h66Fk6Bsnb_K"
      }
    },
    {
      "cell_type": "markdown",
      "source": [
        "# iii. 70-30 Split"
      ],
      "metadata": {
        "id": "ARVkHADdnljT"
      }
    },
    {
      "cell_type": "code",
      "source": [
        "# dictionary to store accuracy scores\n",
        "acc_results = {}\n",
        "\n",
        "# selecting 70-30 train-test split\n",
        "X_train, X_test, y_train, y_test = tts(X, y, test_size = 0.3, random_state = 12)\n",
        "\n",
        "neighbor_range = np.arange(1, 51)\n",
        "\n",
        "for nei in neighbor_range: \n",
        "    classifier = KNeighborsClassifier(n_neighbors = nei)\n",
        "    classifier.fit(X_train, y_train)\n",
        "    y_pred = classifier.predict(X_test)\n",
        "    accuracy = round(accuracy_score(y_test, y_pred), 2)\n",
        "    acc_results[nei] = accuracy\n",
        "\n",
        "# getting the most accurate k value\n",
        "key_list = list(acc_results.keys())\n",
        "value_list = list(acc_results.values())\n",
        "max_acc = pd.Series(acc_results).max()\n",
        "max_k = key_list[value_list.index(pd.Series(acc_results).max())]\n",
        "print(\"The k value of {} for this train-test split resulted in an accuracy of {}\".format(max_k,\n",
        "                                                                                       (max_acc * 100)))"
      ],
      "metadata": {
        "colab": {
          "base_uri": "https://localhost:8080/"
        },
        "id": "XqQob1Xhnspp",
        "outputId": "9e8949c7-da25-4a3b-e2f1-645d8bb762a0"
      },
      "execution_count": 161,
      "outputs": [
        {
          "output_type": "stream",
          "name": "stdout",
          "text": [
            "The k value of 20 for this train-test split resulted in an accuracy of 72.0\n"
          ]
        }
      ]
    },
    {
      "cell_type": "code",
      "source": [
        "# optimizing by normalizing\n",
        "from sklearn.preprocessing import Normalizer\n",
        "normal = Normalizer()\n",
        "X_train = normal.fit_transform(X_train)\n",
        "X_test = normal.transform(X_test)\n",
        "\n",
        "from sklearn.model_selection import KFold, RandomizedSearchCV\n",
        "\n",
        "knn = KNeighborsClassifier()\n",
        "\n",
        "params = {'n_neighbors' : neighbor_range,\n",
        "         'weights' : ['uniform', 'distance'],\n",
        "         'metric' : ['manhattan', 'euclidean', 'minkowski']}\n",
        "\n",
        "kfolds = KFold(n_splits = 20)\n",
        "rscv = RandomizedSearchCV(knn, params, random_state = 12)\n",
        "rscv.fit(X_train, y_train)\n",
        "print(\"The best parameters are:\", rscv.best_params_)"
      ],
      "metadata": {
        "colab": {
          "base_uri": "https://localhost:8080/"
        },
        "id": "ahPEjVNXn2LZ",
        "outputId": "eb8a1c27-9784-4e26-ac39-5d2b228a45a5"
      },
      "execution_count": 162,
      "outputs": [
        {
          "output_type": "stream",
          "name": "stdout",
          "text": [
            "The best parameters are: {'weights': 'distance', 'n_neighbors': 34, 'metric': 'manhattan'}\n"
          ]
        }
      ]
    },
    {
      "cell_type": "code",
      "source": [
        "# now implementing using the recommended best parameters\n",
        "classifier = KNeighborsClassifier(n_neighbors = 34, weights = 'distance', metric = 'manhattan')\n",
        "classifier.fit(X_train, y_train)\n",
        "\n",
        "# making predictions\n",
        "y_pred = classifier.predict(X_test)\n",
        "\n",
        "# evaluating the algorithm\n",
        "print(\"The Accuracy score is:\", accuracy_score(y_test, y_pred))\n",
        "\n",
        "print(confusion_matrix(y_test, y_pred))\n",
        "print(classification_report(y_test, y_pred))"
      ],
      "metadata": {
        "colab": {
          "base_uri": "https://localhost:8080/"
        },
        "id": "2WGeHZLZoACF",
        "outputId": "4215a614-d744-4486-bccc-4616296614cb"
      },
      "execution_count": 163,
      "outputs": [
        {
          "output_type": "stream",
          "name": "stdout",
          "text": [
            "The Accuracy score is: 0.6896551724137931\n",
            "[[101  42]\n",
            " [ 30  59]]\n",
            "              precision    recall  f1-score   support\n",
            "\n",
            "           0       0.77      0.71      0.74       143\n",
            "           1       0.58      0.66      0.62        89\n",
            "\n",
            "    accuracy                           0.69       232\n",
            "   macro avg       0.68      0.68      0.68       232\n",
            "weighted avg       0.70      0.69      0.69       232\n",
            "\n"
          ]
        }
      ]
    },
    {
      "cell_type": "markdown",
      "source": [
        "Before playing around with the parameters, the accuracy score for the 70-30 split was 77.1%.\n",
        "\n",
        "Playing around with the best value of k resulted in an accuracy score of 72% for k = 20.\n",
        "\n",
        "A randomized search returned best parameters 'distance' for weights, 34 for n_neighbors, and 'manhattan' for metrics and resulted in an accuracy score of 68.9%.\n",
        "\n",
        "We see that hyperparameter tuning has actually brought down the accuracy score."
      ],
      "metadata": {
        "id": "jF-thnS4oL9f"
      }
    },
    {
      "cell_type": "markdown",
      "source": [
        "# iv. 60-40 Split"
      ],
      "metadata": {
        "id": "j0_nWYCooTfv"
      }
    },
    {
      "cell_type": "code",
      "source": [
        "# dictionary to store accuracy scores\n",
        "acc_results = {}\n",
        "\n",
        "# selecting 60-40 train-test split\n",
        "X_train, X_test, y_train, y_test = tts(X, y, test_size = 0.4, random_state = 12)\n",
        "\n",
        "neighbor_range = np.arange(1, 51)\n",
        "\n",
        "for nei in neighbor_range: \n",
        "    classifier = KNeighborsClassifier(n_neighbors = nei)\n",
        "    classifier.fit(X_train, y_train)\n",
        "    y_pred = classifier.predict(X_test)\n",
        "    accuracy = round(accuracy_score(y_test, y_pred), 2)\n",
        "    acc_results[nei] = accuracy\n",
        "\n",
        "# getting the most accurate k value\n",
        "key_list = list(acc_results.keys())\n",
        "value_list = list(acc_results.values())\n",
        "max_acc = pd.Series(acc_results).max()\n",
        "max_k = key_list[value_list.index(pd.Series(acc_results).max())]\n",
        "print(\"The k value of {} for this train-test split resulted in an accuracy of {}\".format(max_k,\n",
        "                                                                                       (max_acc * 100)))"
      ],
      "metadata": {
        "colab": {
          "base_uri": "https://localhost:8080/"
        },
        "id": "NR-tNwADomTa",
        "outputId": "9841f021-0f31-44d7-81ee-ef130cbd2620"
      },
      "execution_count": 164,
      "outputs": [
        {
          "output_type": "stream",
          "name": "stdout",
          "text": [
            "The k value of 18 for this train-test split resulted in an accuracy of 72.0\n"
          ]
        }
      ]
    },
    {
      "cell_type": "code",
      "source": [
        "# optimizing by normalizing\n",
        "from sklearn.preprocessing import Normalizer\n",
        "normal = Normalizer()\n",
        "X_train = normal.fit_transform(X_train)\n",
        "X_test = normal.transform(X_test)\n",
        "\n",
        "from sklearn.model_selection import KFold, RandomizedSearchCV\n",
        "\n",
        "knn = KNeighborsClassifier()\n",
        "\n",
        "params = {'n_neighbors' : neighbor_range,\n",
        "         'weights' : ['uniform', 'distance'],\n",
        "         'metric' : ['manhattan', 'euclidean', 'minkowski']}\n",
        "\n",
        "kfolds = KFold(n_splits = 20)\n",
        "rscv = RandomizedSearchCV(knn, params, random_state = 12)\n",
        "rscv.fit(X_train, y_train)\n",
        "print(\"The best parameters are:\", rscv.best_params_)"
      ],
      "metadata": {
        "colab": {
          "base_uri": "https://localhost:8080/"
        },
        "id": "LAY8Zsngo-ly",
        "outputId": "e86cca50-0f83-4443-b62b-0c4b543eff17"
      },
      "execution_count": 166,
      "outputs": [
        {
          "output_type": "stream",
          "name": "stdout",
          "text": [
            "The best parameters are: {'weights': 'distance', 'n_neighbors': 34, 'metric': 'manhattan'}\n"
          ]
        }
      ]
    },
    {
      "cell_type": "code",
      "source": [
        "# now implementing using the recommended best parameters\n",
        "classifier = KNeighborsClassifier(n_neighbors = 34, weights = 'distance', metric = 'manhattan')\n",
        "classifier.fit(X_train, y_train)\n",
        "\n",
        "# making predictions\n",
        "y_pred = classifier.predict(X_test)\n",
        "\n",
        "# evaluating the algorithm\n",
        "print(\"The Accuracy score is:\", accuracy_score(y_test, y_pred))\n",
        "\n",
        "print(confusion_matrix(y_test, y_pred))\n",
        "print(classification_report(y_test, y_pred))"
      ],
      "metadata": {
        "colab": {
          "base_uri": "https://localhost:8080/"
        },
        "id": "KjAxOd_JpdSm",
        "outputId": "afa85ed6-c3fb-43ce-a9cd-e214c6b425ee"
      },
      "execution_count": 167,
      "outputs": [
        {
          "output_type": "stream",
          "name": "stdout",
          "text": [
            "The Accuracy score is: 0.7055016181229773\n",
            "[[137  55]\n",
            " [ 36  81]]\n",
            "              precision    recall  f1-score   support\n",
            "\n",
            "           0       0.79      0.71      0.75       192\n",
            "           1       0.60      0.69      0.64       117\n",
            "\n",
            "    accuracy                           0.71       309\n",
            "   macro avg       0.69      0.70      0.70       309\n",
            "weighted avg       0.72      0.71      0.71       309\n",
            "\n"
          ]
        }
      ]
    },
    {
      "cell_type": "markdown",
      "source": [
        "Before playing around with the parameters, the accuracy score for the 60-40 split was 79.6%.\n",
        "\n",
        "Playing around with the best value of k resulted in an accuracy score of 72.0% for k = 18.\n",
        "\n",
        "A randomized search returned best parameters 'distance' for weights, 34 for n_neighbors, and 'manhattan' for metrics and resulted in an accuracy score of 70.5%.\n",
        "\n",
        "We see that hyperparameter tuning has actually brought down the accuracy score."
      ],
      "metadata": {
        "id": "ng0iUy3zpwx-"
      }
    },
    {
      "cell_type": "markdown",
      "source": [
        "# **6. CONCLUSION**"
      ],
      "metadata": {
        "id": "TS25Mw-cp6qg"
      }
    },
    {
      "cell_type": "markdown",
      "source": [
        "To conclude, we see that the accuracy score is highest for the 60-40 split without any hyperparameter tuning (79.6%). \n",
        "With hyperparameter tuning, the accuracy score went down, which means that either there is something wrong with the model or we did not use the correct model for this. We will challenge our solution by applying gradient boosting."
      ],
      "metadata": {
        "id": "oDhcOjk-q-9h"
      }
    },
    {
      "cell_type": "markdown",
      "source": [
        "# **7. CHALLENGING THE SOLUTION**"
      ],
      "metadata": {
        "id": "gmY4z-ZyrJ2s"
      }
    },
    {
      "cell_type": "code",
      "source": [
        "# use Gradient boosting\n",
        "from sklearn.ensemble import GradientBoostingClassifier\n",
        "\n",
        "# selecting 60-40 train-test split\n",
        "X_train, X_test, y_train, y_test = tts(X, y, test_size = 0.4, random_state = 12)\n",
        "\n",
        "# setting different learning rates, so that we can compare the performance of \n",
        "# the classifier's performance at different learning rates\n",
        "lr_list = [0.05, 0.075, 0.1, 0.25, 0.5, 0.75, 1]\n",
        "\n",
        "for learning_rate in lr_list:\n",
        "    gbc = GradientBoostingClassifier(n_estimators = 200, max_depth = 2,\n",
        "                                     learning_rate = learning_rate,\n",
        "                                     random_state = 12)\n",
        "    gbc.fit(X_train, y_train)\n",
        "\n",
        "    print(\"Learning rate:\", learning_rate)\n",
        "    print(\"Accuracy score (training): {0:.3f}\".format(gbc.score(X_train,\n",
        "                                                                   y_train)))\n",
        "    print(\"Accuracy score (validation): {0:.3f}\".format(gbc.score(X_test,\n",
        "                                                                     y_test)))\n",
        "    print(\"*******************************************\")"
      ],
      "metadata": {
        "colab": {
          "base_uri": "https://localhost:8080/"
        },
        "id": "XthRj7eYq-pd",
        "outputId": "090d6178-5fdc-4b11-f12b-0206de61943e"
      },
      "execution_count": 168,
      "outputs": [
        {
          "output_type": "stream",
          "name": "stdout",
          "text": [
            "Learning rate: 0.05\n",
            "Accuracy score (training): 0.847\n",
            "Accuracy score (validation): 0.793\n",
            "*******************************************\n",
            "Learning rate: 0.075\n",
            "Accuracy score (training): 0.862\n",
            "Accuracy score (validation): 0.796\n",
            "*******************************************\n",
            "Learning rate: 0.1\n",
            "Accuracy score (training): 0.881\n",
            "Accuracy score (validation): 0.806\n",
            "*******************************************\n",
            "Learning rate: 0.25\n",
            "Accuracy score (training): 0.937\n",
            "Accuracy score (validation): 0.799\n",
            "*******************************************\n",
            "Learning rate: 0.5\n",
            "Accuracy score (training): 0.972\n",
            "Accuracy score (validation): 0.741\n",
            "*******************************************\n",
            "Learning rate: 0.75\n",
            "Accuracy score (training): 0.978\n",
            "Accuracy score (validation): 0.744\n",
            "*******************************************\n",
            "Learning rate: 1\n",
            "Accuracy score (training): 0.985\n",
            "Accuracy score (validation): 0.709\n",
            "*******************************************\n"
          ]
        }
      ]
    },
    {
      "cell_type": "markdown",
      "source": [
        "We can see that a learning rate of 0.1 gives us the best performance when it comes to validating, and good performance when it comes to training so we will use it as our parameter."
      ],
      "metadata": {
        "id": "O68SqR8fsLwo"
      }
    },
    {
      "cell_type": "code",
      "source": [
        "# now to use our selected learning rate to model\n",
        "grad = GradientBoostingClassifier(n_estimators = 200, max_depth = 2, \n",
        "                                  learning_rate = 0.1, random_state = 0)\n",
        "\n",
        "# fitting to training data\n",
        "grad.fit(X_train, y_train)\n",
        "\n",
        "# making predictions\n",
        "grad_y_pred = grad.predict(X_test)\n",
        "\n",
        "# evaluating the algorithm\n",
        "print(\"Confusion Matrix:\")\n",
        "print(confusion_matrix(y_test, grad_y_pred))\n",
        "print(\"Classification Report\")\n",
        "print(classification_report(y_test, grad_y_pred))"
      ],
      "metadata": {
        "colab": {
          "base_uri": "https://localhost:8080/"
        },
        "id": "tB7AgWIzvraV",
        "outputId": "895ab149-1e37-4217-c93f-07c899b47ab6"
      },
      "execution_count": 169,
      "outputs": [
        {
          "output_type": "stream",
          "name": "stdout",
          "text": [
            "Confusion Matrix:\n",
            "[[161  31]\n",
            " [ 29  88]]\n",
            "Classification Report\n",
            "              precision    recall  f1-score   support\n",
            "\n",
            "           0       0.85      0.84      0.84       192\n",
            "           1       0.74      0.75      0.75       117\n",
            "\n",
            "    accuracy                           0.81       309\n",
            "   macro avg       0.79      0.80      0.79       309\n",
            "weighted avg       0.81      0.81      0.81       309\n",
            "\n"
          ]
        }
      ]
    },
    {
      "cell_type": "markdown",
      "source": [
        "The Accuracy has gone up to 81% by using gradient boosting, which is a slight improvement that passes our metric for success."
      ],
      "metadata": {
        "id": "MIdI5ny0vxuE"
      }
    }
  ]
}